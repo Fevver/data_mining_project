{
 "cells": [
  {
   "cell_type": "code",
   "execution_count": 1,
   "id": "bf6049ec-e044-4e30-9739-3583b3d8992d",
   "metadata": {},
   "outputs": [],
   "source": [
    "import pandas as pd\n",
    "import requests\n",
    "import numpy as np"
   ]
  },
  {
   "cell_type": "code",
   "execution_count": 2,
   "id": "d4c0f615-ef32-4df6-85f0-431511d596fd",
   "metadata": {},
   "outputs": [],
   "source": [
    "# GET DAILY REVENUE FOR MOVIES THAT ARE IN CINEMAS\n",
    "\n",
    "url = 'https://github.com/tjwaterman99/boxofficemojo-scraper/releases/latest/download/revenues_per_day.csv.gz'\n",
    "revenue_df = pd.read_csv(url, parse_dates=['date'], index_col='id')"
   ]
  },
  {
   "cell_type": "code",
   "execution_count": 19,
   "id": "f1a1f786-0413-4be2-ad96-fa0d0487724f",
   "metadata": {},
   "outputs": [
    {
     "data": {
      "text/html": [
       "<div>\n",
       "<style scoped>\n",
       "    .dataframe tbody tr th:only-of-type {\n",
       "        vertical-align: middle;\n",
       "    }\n",
       "\n",
       "    .dataframe tbody tr th {\n",
       "        vertical-align: top;\n",
       "    }\n",
       "\n",
       "    .dataframe thead th {\n",
       "        text-align: right;\n",
       "    }\n",
       "</style>\n",
       "<table border=\"1\" class=\"dataframe\">\n",
       "  <thead>\n",
       "    <tr style=\"text-align: right;\">\n",
       "      <th></th>\n",
       "      <th>date</th>\n",
       "      <th>title</th>\n",
       "      <th>revenue</th>\n",
       "      <th>theaters</th>\n",
       "      <th>distributor</th>\n",
       "    </tr>\n",
       "    <tr>\n",
       "      <th>id</th>\n",
       "      <th></th>\n",
       "      <th></th>\n",
       "      <th></th>\n",
       "      <th></th>\n",
       "      <th></th>\n",
       "    </tr>\n",
       "  </thead>\n",
       "  <tbody>\n",
       "    <tr>\n",
       "      <th>a6ab655a-be54-ae7e-a277-551c9b6160a5</th>\n",
       "      <td>2023-12-09</td>\n",
       "      <td>The Marvels</td>\n",
       "      <td>632723</td>\n",
       "      <td>1700.0</td>\n",
       "      <td>Walt Disney Studios Motion Pictures</td>\n",
       "    </tr>\n",
       "    <tr>\n",
       "      <th>c2e54537-c636-5422-cea7-73924b9c30a4</th>\n",
       "      <td>2023-12-09</td>\n",
       "      <td>Waitress: The Musical</td>\n",
       "      <td>1011265</td>\n",
       "      <td>1214.0</td>\n",
       "      <td>Bleecker Street Media</td>\n",
       "    </tr>\n",
       "    <tr>\n",
       "      <th>ef383ff1-f4ae-9e63-26fe-92c735ab7a66</th>\n",
       "      <td>2023-12-09</td>\n",
       "      <td>Die Hard2023 Re-release</td>\n",
       "      <td>354023</td>\n",
       "      <td>1355.0</td>\n",
       "      <td>Twenty First Century Entertainment</td>\n",
       "    </tr>\n",
       "    <tr>\n",
       "      <th>5a0f412a-5bb6-668b-bb13-77e2122db94d</th>\n",
       "      <td>2023-12-09</td>\n",
       "      <td>Saltburn</td>\n",
       "      <td>402649</td>\n",
       "      <td>707.0</td>\n",
       "      <td>Warner Bros.</td>\n",
       "    </tr>\n",
       "    <tr>\n",
       "      <th>2e53f83b-5088-3da0-9264-bd2b7f2d0bb8</th>\n",
       "      <td>2023-12-09</td>\n",
       "      <td>Thanksgiving</td>\n",
       "      <td>544427</td>\n",
       "      <td>2025.0</td>\n",
       "      <td>TriStar Pictures</td>\n",
       "    </tr>\n",
       "  </tbody>\n",
       "</table>\n",
       "</div>"
      ],
      "text/plain": [
       "                                           date                    title  \\\n",
       "id                                                                         \n",
       "a6ab655a-be54-ae7e-a277-551c9b6160a5 2023-12-09              The Marvels   \n",
       "c2e54537-c636-5422-cea7-73924b9c30a4 2023-12-09    Waitress: The Musical   \n",
       "ef383ff1-f4ae-9e63-26fe-92c735ab7a66 2023-12-09  Die Hard2023 Re-release   \n",
       "5a0f412a-5bb6-668b-bb13-77e2122db94d 2023-12-09                 Saltburn   \n",
       "2e53f83b-5088-3da0-9264-bd2b7f2d0bb8 2023-12-09             Thanksgiving   \n",
       "\n",
       "                                      revenue  theaters  \\\n",
       "id                                                        \n",
       "a6ab655a-be54-ae7e-a277-551c9b6160a5   632723    1700.0   \n",
       "c2e54537-c636-5422-cea7-73924b9c30a4  1011265    1214.0   \n",
       "ef383ff1-f4ae-9e63-26fe-92c735ab7a66   354023    1355.0   \n",
       "5a0f412a-5bb6-668b-bb13-77e2122db94d   402649     707.0   \n",
       "2e53f83b-5088-3da0-9264-bd2b7f2d0bb8   544427    2025.0   \n",
       "\n",
       "                                                              distributor  \n",
       "id                                                                         \n",
       "a6ab655a-be54-ae7e-a277-551c9b6160a5  Walt Disney Studios Motion Pictures  \n",
       "c2e54537-c636-5422-cea7-73924b9c30a4                Bleecker Street Media  \n",
       "ef383ff1-f4ae-9e63-26fe-92c735ab7a66   Twenty First Century Entertainment  \n",
       "5a0f412a-5bb6-668b-bb13-77e2122db94d                         Warner Bros.  \n",
       "2e53f83b-5088-3da0-9264-bd2b7f2d0bb8                     TriStar Pictures  "
      ]
     },
     "execution_count": 19,
     "metadata": {},
     "output_type": "execute_result"
    }
   ],
   "source": [
    "revenue_df.sort_values(by='date', ascending=False).head()"
   ]
  },
  {
   "cell_type": "code",
   "execution_count": 4,
   "metadata": {},
   "outputs": [],
   "source": [
    "r = pd.DataFrame()\n",
    "r['date'] = pd.to_datetime(revenue_df['date'].values)"
   ]
  },
  {
   "cell_type": "code",
   "execution_count": 28,
   "metadata": {},
   "outputs": [
    {
     "data": {
      "text/plain": [
       "NaT"
      ]
     },
     "execution_count": 28,
     "metadata": {},
     "output_type": "execute_result"
    }
   ],
   "source": [
    "revenue_df[revenue_df['title']=='The Wonka']['date'].max().to_pydatetime()"
   ]
  },
  {
   "cell_type": "code",
   "execution_count": 29,
   "metadata": {},
   "outputs": [
    {
     "data": {
      "text/plain": [
       "True"
      ]
     },
     "execution_count": 29,
     "metadata": {},
     "output_type": "execute_result"
    }
   ],
   "source": [
    "pd.isna(revenue_df[revenue_df['title']=='The Wonka']['date'].max().to_pydatetime())"
   ]
  },
  {
   "cell_type": "code",
   "execution_count": 5,
   "metadata": {},
   "outputs": [
    {
     "data": {
      "text/plain": [
       "Timestamp('1999-12-01 00:00:00')"
      ]
     },
     "execution_count": 5,
     "metadata": {},
     "output_type": "execute_result"
    }
   ],
   "source": [
    "r['date'].min()- pd.DateOffset(months=1)"
   ]
  },
  {
   "cell_type": "code",
   "execution_count": 6,
   "id": "92932ca8-c9d3-4e0c-a817-35f6ed8a73c6",
   "metadata": {},
   "outputs": [
    {
     "data": {
      "text/html": [
       "<div>\n",
       "<style scoped>\n",
       "    .dataframe tbody tr th:only-of-type {\n",
       "        vertical-align: middle;\n",
       "    }\n",
       "\n",
       "    .dataframe tbody tr th {\n",
       "        vertical-align: top;\n",
       "    }\n",
       "\n",
       "    .dataframe thead th {\n",
       "        text-align: right;\n",
       "    }\n",
       "</style>\n",
       "<table border=\"1\" class=\"dataframe\">\n",
       "  <thead>\n",
       "    <tr style=\"text-align: right;\">\n",
       "      <th></th>\n",
       "      <th>date</th>\n",
       "      <th>title</th>\n",
       "      <th>revenue</th>\n",
       "      <th>theaters</th>\n",
       "      <th>distributor</th>\n",
       "    </tr>\n",
       "    <tr>\n",
       "      <th>id</th>\n",
       "      <th></th>\n",
       "      <th></th>\n",
       "      <th></th>\n",
       "      <th></th>\n",
       "      <th></th>\n",
       "    </tr>\n",
       "  </thead>\n",
       "  <tbody>\n",
       "    <tr>\n",
       "      <th>30e8075e-9c92-fdc8-4248-bd612160ba10</th>\n",
       "      <td>2023-11-17</td>\n",
       "      <td>The Hunger Games: The Ballad of Songbirds &amp; Sn...</td>\n",
       "      <td>19100000</td>\n",
       "      <td>3776.0</td>\n",
       "      <td>Lions Gate Films</td>\n",
       "    </tr>\n",
       "    <tr>\n",
       "      <th>762de0d5-943f-085b-d353-58b1ad368970</th>\n",
       "      <td>2023-11-18</td>\n",
       "      <td>The Hunger Games: The Ballad of Songbirds &amp; Sn...</td>\n",
       "      <td>14651228</td>\n",
       "      <td>3776.0</td>\n",
       "      <td>Lions Gate Films</td>\n",
       "    </tr>\n",
       "    <tr>\n",
       "      <th>734919f9-4c1c-7d01-c42e-3164b5f58462</th>\n",
       "      <td>2023-11-19</td>\n",
       "      <td>The Hunger Games: The Ballad of Songbirds &amp; Sn...</td>\n",
       "      <td>10907171</td>\n",
       "      <td>3776.0</td>\n",
       "      <td>Lions Gate Films</td>\n",
       "    </tr>\n",
       "    <tr>\n",
       "      <th>e288f437-adcb-a79c-2559-9a4dc5e0ac26</th>\n",
       "      <td>2023-11-20</td>\n",
       "      <td>The Hunger Games: The Ballad of Songbirds &amp; Sn...</td>\n",
       "      <td>5266808</td>\n",
       "      <td>3776.0</td>\n",
       "      <td>Lions Gate Films</td>\n",
       "    </tr>\n",
       "    <tr>\n",
       "      <th>5fab426d-3367-d3fb-088b-d52c27c0c8b5</th>\n",
       "      <td>2023-11-21</td>\n",
       "      <td>The Hunger Games: The Ballad of Songbirds &amp; Sn...</td>\n",
       "      <td>6500000</td>\n",
       "      <td>3776.0</td>\n",
       "      <td>Lions Gate Films</td>\n",
       "    </tr>\n",
       "  </tbody>\n",
       "</table>\n",
       "</div>"
      ],
      "text/plain": [
       "                                           date  \\\n",
       "id                                                \n",
       "30e8075e-9c92-fdc8-4248-bd612160ba10 2023-11-17   \n",
       "762de0d5-943f-085b-d353-58b1ad368970 2023-11-18   \n",
       "734919f9-4c1c-7d01-c42e-3164b5f58462 2023-11-19   \n",
       "e288f437-adcb-a79c-2559-9a4dc5e0ac26 2023-11-20   \n",
       "5fab426d-3367-d3fb-088b-d52c27c0c8b5 2023-11-21   \n",
       "\n",
       "                                                                                  title  \\\n",
       "id                                                                                        \n",
       "30e8075e-9c92-fdc8-4248-bd612160ba10  The Hunger Games: The Ballad of Songbirds & Sn...   \n",
       "762de0d5-943f-085b-d353-58b1ad368970  The Hunger Games: The Ballad of Songbirds & Sn...   \n",
       "734919f9-4c1c-7d01-c42e-3164b5f58462  The Hunger Games: The Ballad of Songbirds & Sn...   \n",
       "e288f437-adcb-a79c-2559-9a4dc5e0ac26  The Hunger Games: The Ballad of Songbirds & Sn...   \n",
       "5fab426d-3367-d3fb-088b-d52c27c0c8b5  The Hunger Games: The Ballad of Songbirds & Sn...   \n",
       "\n",
       "                                       revenue  theaters       distributor  \n",
       "id                                                                          \n",
       "30e8075e-9c92-fdc8-4248-bd612160ba10  19100000    3776.0  Lions Gate Films  \n",
       "762de0d5-943f-085b-d353-58b1ad368970  14651228    3776.0  Lions Gate Films  \n",
       "734919f9-4c1c-7d01-c42e-3164b5f58462  10907171    3776.0  Lions Gate Films  \n",
       "e288f437-adcb-a79c-2559-9a4dc5e0ac26   5266808    3776.0  Lions Gate Films  \n",
       "5fab426d-3367-d3fb-088b-d52c27c0c8b5   6500000    3776.0  Lions Gate Films  "
      ]
     },
     "execution_count": 6,
     "metadata": {},
     "output_type": "execute_result"
    }
   ],
   "source": [
    "revenue_df[revenue_df['title'].str.startswith(\"The Hunger Games: The Ballad\")].head()"
   ]
  },
  {
   "cell_type": "code",
   "execution_count": 7,
   "id": "37066137-e2be-4770-814c-bb23fd472923",
   "metadata": {},
   "outputs": [
    {
     "data": {
      "text/plain": [
       "345155"
      ]
     },
     "execution_count": 7,
     "metadata": {},
     "output_type": "execute_result"
    }
   ],
   "source": [
    "len(revenue_df)"
   ]
  },
  {
   "cell_type": "code",
   "execution_count": 8,
   "id": "b4532555-d57f-4241-b0a7-491009afea51",
   "metadata": {},
   "outputs": [],
   "source": [
    "# CO POTRZEBA\n",
    "# url = \"https://api.themoviedb.org/3/trending/all/week?language=en-US&api_key={}\".format(\"44f6c761b9c0466960bf14796a06db32\")\n",
    "# Wołać trending w loopie aż dostaniemy wszystkie strony\n",
    "# zmergować w jedną tabelke\n",
    "# Dla każdego trending movie dostać providerów i zmergować\n",
    "# Stworzyć df z daily revenues\n",
    "# joinować pierwszego dfa z box office df po tytule\n"
   ]
  },
  {
   "cell_type": "code",
   "execution_count": 9,
   "id": "5179e9cb-4ff3-4d1e-84a7-50c899c932de",
   "metadata": {},
   "outputs": [],
   "source": [
    "def fetch_all_pages(api_key, endpoint, max_pages=5):\n",
    "    url = f'https://api.themoviedb.org/3/{endpoint}'\n",
    "    params = {'api_key': api_key, 'page': 1}\n",
    "    response = requests.get(url, params=params)\n",
    "    data = response.json()\n",
    "    total_pages = 1\n",
    "    if 'total_pages' in data:\n",
    "        total_pages = min(data['total_pages'], max_pages)\n",
    "\n",
    "\n",
    "    all_results = data['results']\n",
    "\n",
    "    for page in range(2, total_pages + 1):\n",
    "        params['page'] = page\n",
    "        response = requests.get(url, params=params)\n",
    "        data = response.json()\n",
    "        all_results.extend(data['results'])\n",
    "\n",
    "    return all_results"
   ]
  },
  {
   "cell_type": "code",
   "execution_count": 10,
   "metadata": {},
   "outputs": [
    {
     "name": "stdout",
     "output_type": "stream",
     "text": [
      "[{'adult': False, 'backdrop_path': '/1X7vow16X7CnCoexXh4H4F2yDJv.jpg', 'id': 466420, 'title': 'Killers of the Flower Moon', 'original_language': 'en', 'original_title': 'Killers of the Flower Moon', 'overview': 'When oil is discovered in 1920s Oklahoma under Osage Nation land, the Osage people are murdered one by one—until the FBI steps in to unravel the mystery.', 'poster_path': '/dB6Krk806zeqd0YNp2ngQ9zXteH.jpg', 'media_type': 'movie', 'genre_ids': [80, 18, 36], 'popularity': 2277.914, 'release_date': '2023-10-18', 'video': False, 'vote_average': 7.671, 'vote_count': 1314}, {'adult': False, 'backdrop_path': '/fm6KqXpk3M2HVveHwCrBSSBaO0V.jpg', 'id': 872585, 'title': 'Oppenheimer', 'original_language': 'en', 'original_title': 'Oppenheimer', 'overview': \"The story of J. Robert Oppenheimer's role in the development of the atomic bomb during World War II.\", 'poster_path': '/8Gxv8gSFCU0XGDykEGv7zR1n2ua.jpg', 'media_type': 'movie', 'genre_ids': [18, 36], 'popularity': 956.285, 'release_date': '2023-07-19', 'video': False, 'vote_average': 8.139, 'vote_count': 5345}, {'adult': False, 'backdrop_path': '/vcFW09U4834DyFOeRZpsx9x1D3S.jpg', 'id': 57243, 'name': 'Doctor Who', 'original_language': 'en', 'original_name': 'Doctor Who', 'overview': \"The Doctor is a Time Lord: a 900 year old alien with 2 hearts, part of a gifted civilization who mastered time travel. The Doctor saves planets for a living—more of a hobby actually, and the Doctor's very, very good at it.\", 'poster_path': '/4edFyasCrkH4MKs6H4mHqlrxA6b.jpg', 'media_type': 'tv', 'genre_ids': [10759, 18, 10765], 'popularity': 647.093, 'first_air_date': '2005-03-26', 'vote_average': 7.461, 'vote_count': 2721, 'origin_country': ['GB']}, {'adult': False, 'backdrop_path': '/1pmLsPXz5k37BILPH1wq1OV2E7U.jpg', 'id': 239770, 'name': 'Doctor Who', 'original_language': 'en', 'original_name': 'Doctor Who', 'overview': 'The Doctor and friends travel from the dawn of human history to distant alien worlds. And everywhere they go, they find adventure, terror, fun, chases, joy and monsters.', 'poster_path': '/2I8aMfUvgRKQvEpBIQVKMbXgMsi.jpg', 'media_type': 'tv', 'genre_ids': [10759, 18, 10765], 'popularity': 268.284, 'first_air_date': '', 'vote_average': 7.9, 'vote_count': 42, 'origin_country': ['GB']}, {'adult': False, 'backdrop_path': '/yOm993lsJyPmBodlYjgpPwBjXP9.jpg', 'id': 787699, 'title': 'Wonka', 'original_language': 'en', 'original_title': 'Wonka', 'overview': 'Willy Wonka – chock-full of ideas and determined to change the world one delectable bite at a time – is proof that the best things in life begin with a dream, and if you’re lucky enough to meet Willy Wonka, anything is possible.', 'poster_path': '/qhb1qOilapbapxWQn9jtRCMwXJF.jpg', 'media_type': 'movie', 'genre_ids': [35, 10751, 14], 'popularity': 1174.577, 'release_date': '2023-12-06', 'video': False, 'vote_average': 7.052, 'vote_count': 96}, {'adult': False, 'backdrop_path': '/feSiISwgEpVzR1v3zv2n2AU4ANJ.jpg', 'id': 609681, 'title': 'The Marvels', 'original_language': 'en', 'original_title': 'The Marvels', 'overview': 'Carol Danvers, aka Captain Marvel, has reclaimed her identity from the tyrannical Kree and taken revenge on the Supreme Intelligence. But unintended consequences see Carol shouldering the burden of a destabilized universe. When her duties send her to an anomalous wormhole linked to a Kree revolutionary, her powers become entangled with that of Jersey City super-fan Kamala Khan, aka Ms. Marvel, and Carol’s estranged niece, now S.A.B.E.R. astronaut Captain Monica Rambeau. Together, this unlikely trio must team up and learn to work in concert to save the universe.', 'poster_path': '/Ag3D9qXjhJ2FUkrlJ0Cv1pgxqYQ.jpg', 'media_type': 'movie', 'genre_ids': [878, 12, 28], 'popularity': 590.38, 'release_date': '2023-11-08', 'video': False, 'vote_average': 6.544, 'vote_count': 664}, {'adult': False, 'backdrop_path': '/kjQBrc00fB2RjHZB3PGR4w9ibpz.jpg', 'id': 670292, 'title': 'The Creator', 'original_language': 'en', 'original_title': 'The Creator', 'overview': 'Amid a future war between the human race and the forces of artificial intelligence, a hardened ex-special forces agent grieving the disappearance of his wife, is recruited to hunt down and kill the Creator, the elusive architect of advanced AI who has developed a mysterious weapon with the power to end the war—and mankind itself.', 'poster_path': '/vBZ0qvaRxqEhZwl6LWmruJqWE8Z.jpg', 'media_type': 'movie', 'genre_ids': [28, 12, 18], 'popularity': 657.584, 'release_date': '2023-09-27', 'video': False, 'vote_average': 7.113, 'vote_count': 1398}, {'adult': False, 'backdrop_path': '/rqbCbjB19amtOtFQbb3K2lgm2zv.jpg', 'id': 1429, 'name': 'Attack on Titan', 'original_language': 'ja', 'original_name': '進撃の巨人', 'overview': 'Several hundred years ago, humans were nearly exterminated by Titans. Titans are typically several stories tall, seem to have no intelligence, devour human beings and, worst of all, seem to do it for the pleasure rather than as a food source. A small percentage of humanity survived by walling themselves in a city protected by extremely high walls, even taller than the biggest Titans. Flash forward to the present and the city has not seen a Titan in over 100 years. Teenage boy Eren and his foster sister Mikasa witness something horrific as the city walls are destroyed by a Colossal Titan that appears out of thin air. As the smaller Titans flood the city, the two kids watch in horror as their mother is eaten alive. Eren vows that he will murder every single Titan and take revenge for all of mankind.', 'poster_path': '/hTP1DtLGFamjfu8WqjnuQdP1n4i.jpg', 'media_type': 'tv', 'genre_ids': [16, 10765, 10759], 'popularity': 291.075, 'first_air_date': '2013-04-07', 'vote_average': 8.669, 'vote_count': 5750, 'origin_country': ['JP']}, {'adult': False, 'backdrop_path': '/8GnWDLn2AhnmkQ7hlQ9NJUYobSS.jpg', 'id': 695721, 'title': 'The Hunger Games: The Ballad of Songbirds & Snakes', 'original_language': 'en', 'original_title': 'The Hunger Games: The Ballad of Songbirds & Snakes', 'overview': '64 years before he becomes the tyrannical president of Panem, Coriolanus Snow sees a chance for a change in fortunes when he mentors Lucy Gray Baird, the female tribute from District 12.', 'poster_path': '/mBaXZ95R2OxueZhvQbcEWy2DqyO.jpg', 'media_type': 'movie', 'genre_ids': [28, 10749, 18], 'popularity': 698.218, 'release_date': '2023-11-15', 'video': False, 'vote_average': 7.267, 'vote_count': 670}, {'adult': False, 'backdrop_path': '/t9i4Icf1LsGIgkpnokQaC4hzxLa.jpg', 'id': 202411, 'name': 'Monarch: Legacy of Monsters', 'original_language': 'en', 'original_name': 'Monarch: Legacy of Monsters', 'overview': \"After surviving Godzilla's attack on San Francisco, Cate is shaken yet again by a shocking secret. Amid monstrous threats, she embarks on a globetrotting adventure to learn the truth about her family—and the mysterious organization known as Monarch.\", 'poster_path': '/uwrQHMnXD2DA1rvaMZk4pavZ3CY.jpg', 'media_type': 'tv', 'genre_ids': [18, 10765, 10759], 'popularity': 1322.914, 'first_air_date': '2023-11-16', 'vote_average': 8.176, 'vote_count': 284, 'origin_country': ['US']}, {'adult': False, 'backdrop_path': '/t5zCBSB5xMDKcDqe91qahCOUYVV.jpg', 'id': 507089, 'title': \"Five Nights at Freddy's\", 'original_language': 'en', 'original_title': \"Five Nights at Freddy's\", 'overview': \"Recently fired and desperate for work, a troubled young man named Mike agrees to take a position as a night security guard at an abandoned theme restaurant: Freddy Fazbear's Pizzeria. But he soon discovers that nothing at Freddy's is what it seems.\", 'poster_path': '/7BpNtNfxuocYEVREzVMO75hso1l.jpg', 'media_type': 'movie', 'genre_ids': [27, 9648], 'popularity': 701.906, 'release_date': '2023-10-25', 'video': False, 'vote_average': 7.831, 'vote_count': 2757}, {'adult': False, 'backdrop_path': '/35z8hWuzfFUZQaYog8E9LsXW3iI.jpg', 'id': 335977, 'title': 'Indiana Jones and the Dial of Destiny', 'original_language': 'en', 'original_title': 'Indiana Jones and the Dial of Destiny', 'overview': \"Finding himself in a new era, and approaching retirement, Indy wrestles with fitting into a world that seems to have outgrown him. But as the tentacles of an all-too-familiar evil return in the form of an old rival, Indy must don his hat and pick up his whip once more to make sure an ancient and powerful artifact doesn't fall into the wrong hands.\", 'poster_path': '/Af4bXE63pVsb2FtbW8uYIyPBadD.jpg', 'media_type': 'movie', 'genre_ids': [12, 28], 'popularity': 336.848, 'release_date': '2023-06-28', 'video': False, 'vote_average': 6.685, 'vote_count': 2211}, {'adult': False, 'backdrop_path': '/mceCXNTny6a5F3rQgShLoyARw4l.jpg', 'id': 96648, 'name': 'Sweet Home', 'original_language': 'ko', 'original_name': '스위트홈', 'overview': 'As humans turn into savage monsters and the world plunges into terror, a handful of survivors fight for their lives — and to hold on to their humanity.', 'poster_path': '/7K8XmVrvwYbnQSg7lI9VOmf7suO.jpg', 'media_type': 'tv', 'genre_ids': [18, 10765, 80], 'popularity': 719.274, 'first_air_date': '2020-12-18', 'vote_average': 8.395, 'vote_count': 1154, 'origin_country': ['KR']}, {'adult': False, 'backdrop_path': '/4Mt7WHox67uJ1yErwTBFcV8KWgG.jpg', 'id': 37854, 'name': 'One Piece', 'original_language': 'ja', 'original_name': 'ワンピース', 'overview': 'Years ago, the fearsome Pirate King, Gol D. Roger was executed leaving a huge pile of treasure and the famous \"One Piece\" behind. Whoever claims the \"One Piece\" will be named the new King of the Pirates.\\n\\nMonkey D. Luffy, a boy who consumed a \"Devil Fruit,\" decides to follow in the footsteps of his idol, the pirate Shanks, and find the One Piece. It helps, of course, that his body has the properties of rubber and that he\\'s surrounded by a bevy of skilled fighters and thieves to help him along the way.\\n\\nLuffy will do anything to get the One Piece and become King of the Pirates!', 'poster_path': '/e3NBGiAifW9Xt8xD5tpARskjccO.jpg', 'media_type': 'tv', 'genre_ids': [10759, 35, 16], 'popularity': 136.579, 'first_air_date': '1999-10-20', 'vote_average': 8.728, 'vote_count': 4202, 'origin_country': ['JP']}, {'adult': False, 'backdrop_path': '/k1KrbaCMACQiq7EA0Yhw3bdzMv7.jpg', 'id': 901362, 'title': 'Trolls Band Together', 'original_language': 'en', 'original_title': 'Trolls Band Together', 'overview': \"When Branch's brother, Floyd, is kidnapped for his musical talents by a pair of nefarious pop-star villains, Branch and Poppy embark on a harrowing and emotional journey to reunite the other brothers and rescue Floyd from a fate even worse than pop-culture obscurity.\", 'poster_path': '/sEaLO9s7CIN3fjz8R3Qksum44en.jpg', 'media_type': 'movie', 'genre_ids': [16, 10751, 10402, 14, 35], 'popularity': 1191.278, 'release_date': '2023-10-12', 'video': False, 'vote_average': 7.133, 'vote_count': 338}, {'adult': False, 'backdrop_path': '/f1AQhx6ZfGhPZFTVKgxG91PhEYc.jpg', 'id': 753342, 'title': 'Napoleon', 'original_language': 'en', 'original_title': 'Napoleon', 'overview': 'An epic that details the checkered rise and fall of French Emperor Napoleon Bonaparte and his relentless journey to power through the prism of his addictive, volatile relationship with his wife, Josephine.', 'poster_path': '/jE5o7y9K6pZtWNNMEw3IdpHuncR.jpg', 'media_type': 'movie', 'genre_ids': [18, 36, 10752], 'popularity': 311.506, 'release_date': '2023-11-22', 'video': False, 'vote_average': 6.449, 'vote_count': 681}, {'adult': False, 'backdrop_path': '/ctMserH8g2SeOAnCw5gFjdQF8mo.jpg', 'id': 346698, 'title': 'Barbie', 'original_language': 'en', 'original_title': 'Barbie', 'overview': 'Barbie and Ken are having the time of their lives in the colorful and seemingly perfect world of Barbie Land. However, when they get a chance to go to the real world, they soon discover the joys and perils of living among humans.', 'poster_path': '/iuFNMS8U5cb6xfzi51Dbkovj7vM.jpg', 'media_type': 'movie', 'genre_ids': [35, 12, 14], 'popularity': 430.176, 'release_date': '2023-07-19', 'video': False, 'vote_average': 7.178, 'vote_count': 6227}, {'adult': False, 'backdrop_path': '/628Dep6AxEtDxjZoGP78TsOxYbK.jpg', 'id': 575264, 'title': 'Mission: Impossible - Dead Reckoning Part One', 'original_language': 'en', 'original_title': 'Mission: Impossible - Dead Reckoning Part One', 'overview': \"Ethan Hunt and his IMF team embark on their most dangerous mission yet: To track down a terrifying new weapon that threatens all of humanity before it falls into the wrong hands. With control of the future and the world's fate at stake and dark forces from Ethan's past closing in, a deadly race around the globe begins. Confronted by a mysterious, all-powerful enemy, Ethan must consider that nothing can matter more than his mission—not even the lives of those he cares about most.\", 'poster_path': '/NNxYkU70HPurnNCSiCjYAmacwm.jpg', 'media_type': 'movie', 'genre_ids': [28, 53], 'popularity': 568.225, 'release_date': '2023-07-08', 'video': False, 'vote_average': 7.589, 'vote_count': 2673}, {'adult': False, 'backdrop_path': '/q3jHCb4dMfYF6ojikKuHd6LscxC.jpg', 'id': 84958, 'name': 'Loki', 'original_language': 'en', 'original_name': 'Loki', 'overview': 'After stealing the Tesseract during the events of “Avengers: Endgame,” an alternate version of Loki is brought to the mysterious Time Variance Authority, a bureaucratic organization that exists outside of time and space and monitors the timeline. They give Loki a choice: face being erased from existence due to being a “time variant” or help fix the timeline and stop a greater threat.', 'poster_path': '/voHUmluYmKyleFkTu3lOXQG702u.jpg', 'media_type': 'tv', 'genre_ids': [18, 10765], 'popularity': 426.393, 'first_air_date': '2021-06-09', 'vote_average': 8.184, 'vote_count': 10865, 'origin_country': ['US']}, {'adult': False, 'backdrop_path': '/zIYROrkHJPYB3VTiW1L9QVgaQO.jpg', 'id': 897087, 'title': 'Freelance', 'original_language': 'en', 'original_title': 'Freelance', 'overview': 'An ex-special forces operative takes a job to provide security for a journalist as she interviews a dictator, but a military coup breaks out in the middle of the interview, they are forced to escape into the jungle where they must survive.', 'poster_path': '/zDb5YeHSGGMlS6eqhUXcVU2OzAJ.jpg', 'media_type': 'movie', 'genre_ids': [28, 35], 'popularity': 1834.492, 'release_date': '2023-10-05', 'video': False, 'vote_average': 6.222, 'vote_count': 236}, {'adult': False, 'backdrop_path': '/9PqD3wSIjntyJDBzMNuxuKHwpUD.jpg', 'id': 1075794, 'title': 'Leo', 'original_language': 'en', 'original_title': 'Leo', 'overview': 'Jaded 74-year-old lizard Leo has been stuck in the same Florida classroom for decades with his terrarium-mate turtle. When he learns he only has one year left to live, he plans to escape to experience life on the outside but instead gets caught up in the problems of his anxious students — including an impossibly mean substitute teacher.', 'poster_path': '/pD6sL4vntUOXHmuvJPPZAgvyfd9.jpg', 'media_type': 'movie', 'genre_ids': [16, 35, 10751], 'popularity': 1016.769, 'release_date': '2023-11-17', 'video': False, 'vote_average': 7.565, 'vote_count': 515}, {'adult': False, 'backdrop_path': '/ehumsuIBbgAe1hg343oszCLrAfI.jpg', 'id': 1022796, 'title': 'Wish', 'original_language': 'en', 'original_title': 'Wish', 'overview': 'Asha, a sharp-witted idealist, makes a wish so powerful that it is answered by a cosmic force – a little ball of boundless energy called Star. Together, Asha and Star confront a most formidable foe - the ruler of Rosas, King Magnifico - to save her community and prove that when the will of one courageous human connects with the magic of the stars, wondrous things can happen.', 'poster_path': '/AcoVfiv1rrWOmAdpnAMnM56ki19.jpg', 'media_type': 'movie', 'genre_ids': [16, 10751, 14, 12], 'popularity': 334.943, 'release_date': '2023-11-13', 'video': False, 'vote_average': 6.665, 'vote_count': 106}, {'adult': False, 'backdrop_path': '/sQLMaESdeELB7Dl8HdxfGlZYRzu.jpg', 'id': 840430, 'title': 'The Holdovers', 'original_language': 'en', 'original_title': 'The Holdovers', 'overview': 'A curmudgeonly instructor at a New England prep school is forced to remain on campus during Christmas break to babysit the handful of students with nowhere to go. Eventually, he forms an unlikely bond with one of them — a damaged, brainy troublemaker — and with the school’s head cook, who has just lost a son in Vietnam.', 'poster_path': '/VHSzNBTwxV8vh7wylo7O9CLdac.jpg', 'media_type': 'movie', 'genre_ids': [35, 18], 'popularity': 108.341, 'release_date': '2023-10-27', 'video': False, 'vote_average': 7.7, 'vote_count': 116}, {'adult': False, 'backdrop_path': '/gmECX1DvFgdUPjtio2zaL8BPYPu.jpg', 'id': 95479, 'name': 'Jujutsu Kaisen', 'original_language': 'ja', 'original_name': '呪術廻戦', 'overview': 'Yuji Itadori is a boy with tremendous physical strength, though he lives a completely ordinary high school life. One day, to save a classmate who has been attacked by curses, he eats the finger of Ryomen Sukuna, taking the curse into his own soul. From then on, he shares one body with Ryomen Sukuna. Guided by the most powerful of sorcerers, Satoru Gojo, Itadori is admitted to Tokyo Jujutsu High School, an organization that fights the curses... and thus begins the heroic tale of a boy who became a curse to exorcise a curse, a life from which he could never turn back.', 'poster_path': '/hFWP5HkbVEe40hrXgtCeQxoccHE.jpg', 'media_type': 'tv', 'genre_ids': [16, 10759, 10765], 'popularity': 747.904, 'first_air_date': '2020-10-03', 'vote_average': 8.571, 'vote_count': 2969, 'origin_country': ['JP']}, {'adult': False, 'backdrop_path': '/z6OkT7XjzSrgstiTlld0jUvME9y.jpg', 'id': 726209, 'title': 'Leave the World Behind', 'original_language': 'en', 'original_title': 'Leave the World Behind', 'overview': \"A family's getaway to a luxurious rental home takes an ominous turn when a cyberattack knocks out their devices — and two strangers appear at their door.\", 'poster_path': '/29rhl1xopxA7JlGVVsf1UHfYPvN.jpg', 'media_type': 'movie', 'genre_ids': [18, 9648, 53, 878], 'popularity': 522.417, 'release_date': '2023-11-22', 'video': False, 'vote_average': 6.691, 'vote_count': 467}, {'adult': False, 'backdrop_path': '/mRmRE4RknbL7qKALWQDz64hWKPa.jpg', 'id': 800158, 'title': 'The Killer', 'original_language': 'en', 'original_title': 'The Killer', 'overview': \"After a fateful near-miss, an assassin battles his employers, and himself, on an international manhunt he insists isn't personal.\", 'poster_path': '/ipkcgvN7h3yZnbYowthloHLKsf4.jpg', 'media_type': 'movie', 'genre_ids': [80, 53], 'popularity': 148.224, 'release_date': '2023-10-25', 'video': False, 'vote_average': 6.646, 'vote_count': 1210}, {'adult': False, 'backdrop_path': '/fQsIJQxE1D0Y0NpWSKwo489y5px.jpg', 'id': 204082, 'name': 'Squid Game: The Challenge', 'original_language': 'en', 'original_name': 'Squid Game: The Challenge', 'overview': 'In this reality competition show inspired by \"Squid Game,\" 456 players put their skills to the ultimate test for a life-changing $4.56 million prize.', 'poster_path': '/eAjXAgdjPMZH9Ugub7XYPowFoS1.jpg', 'media_type': 'tv', 'genre_ids': [10764], 'popularity': 524.454, 'first_air_date': '2023-11-22', 'vote_average': 6.3, 'vote_count': 126, 'origin_country': ['GB']}, {'adult': False, 'backdrop_path': '/tC78Pck2YCsUAtEdZwuHYUFYtOj.jpg', 'id': 926393, 'title': 'The Equalizer 3', 'original_language': 'en', 'original_title': 'The Equalizer 3', 'overview': \"Robert McCall finds himself at home in Southern Italy but he discovers his friends are under the control of local crime bosses. As events turn deadly, McCall knows what he has to do: become his friends' protector by taking on the mafia.\", 'poster_path': '/b0Ej6fnXAP8fK75hlyi2jKqdhHz.jpg', 'media_type': 'movie', 'genre_ids': [28, 53, 80], 'popularity': 445.357, 'release_date': '2023-08-30', 'video': False, 'vote_average': 7.436, 'vote_count': 1855}, {'adult': False, 'backdrop_path': '/bckxSN9ueOgm0gJpVJmPQrecWul.jpg', 'id': 572802, 'title': 'Aquaman and the Lost Kingdom', 'original_language': 'en', 'original_title': 'Aquaman and the Lost Kingdom', 'overview': \"Black Manta, still driven by the need to avenge his father's death and wielding the power of the mythic Black Trident, will stop at nothing to take Aquaman down once and for all. To defeat him, Aquaman must turn to his imprisoned brother Orm, the former King of Atlantis, to forge an unlikely alliance in order to save the world from irreversible destruction.\", 'poster_path': '/8xV47NDrjdZDpkVcCFqkdHa3T0C.jpg', 'media_type': 'movie', 'genre_ids': [28, 12, 14], 'popularity': 323.37, 'release_date': '2023-12-20', 'video': False, 'vote_average': 0.0, 'vote_count': 0}, {'adult': False, 'backdrop_path': '/4HodYYKEIsGOdinkGi2Ucz6X9i0.jpg', 'id': 569094, 'title': 'Spider-Man: Across the Spider-Verse', 'original_language': 'en', 'original_title': 'Spider-Man: Across the Spider-Verse', 'overview': 'After reuniting with Gwen Stacy, Brooklyn’s full-time, friendly neighborhood Spider-Man is catapulted across the Multiverse, where he encounters the Spider Society, a team of Spider-People charged with protecting the Multiverse’s very existence. But when the heroes clash on how to handle a new threat, Miles finds himself pitted against the other Spiders and must set out on his own to save those he loves most.', 'poster_path': '/8Vt6mWEReuy4Of61Lnj5Xj704m8.jpg', 'media_type': 'movie', 'genre_ids': [16, 28, 12, 878], 'popularity': 355.048, 'release_date': '2023-05-31', 'video': False, 'vote_average': 8.402, 'vote_count': 5130}, {'adult': False, 'backdrop_path': '/jEDILaZtJOqNTEnFqWnYsCEVHpr.jpg', 'id': 94244, 'name': 'Obliterated', 'original_language': 'en', 'original_name': 'Obliterated', 'overview': 'A special forces team thwarts a deadly plot in Sin City and parties accordingly. But when the real threat emerges, they must sober up to save Las Vegas.', 'poster_path': '/5g3UrcV6oguAcI3myMKb6wi28y5.jpg', 'media_type': 'tv', 'genre_ids': [35, 10759, 18], 'popularity': 455.117, 'first_air_date': '2023-11-30', 'vote_average': 6.803, 'vote_count': 33, 'origin_country': ['US']}, {'adult': False, 'backdrop_path': '/kHlX3oqdD4VGaLpB8O78M25KfdS.jpg', 'id': 945729, 'title': 'A Haunting in Venice', 'original_language': 'en', 'original_title': 'A Haunting in Venice', 'overview': 'Celebrated sleuth Hercule Poirot, now retired and living in self-imposed exile in Venice, reluctantly attends a Halloween séance at a decaying, haunted palazzo. When one of the guests is murdered, the detective is thrust into a sinister world of shadows and secrets.', 'poster_path': '/1Xgjl22MkAZQUavvOeBqRehrvqO.jpg', 'media_type': 'movie', 'genre_ids': [9648, 53, 80], 'popularity': 99.954, 'release_date': '2023-09-13', 'video': False, 'vote_average': 6.755, 'vote_count': 1445}, {'adult': False, 'backdrop_path': '/fc2pEZgr0ltmyzLl4cO9JInOg6l.jpg', 'id': 798021, 'title': 'Family Switch', 'original_language': 'en', 'original_title': 'Family Switch', 'overview': 'When the Walker family members switch bodies with each other during a rare planetary alignment, their hilarious journey to find their way back to normal will bring them closer together than they ever thought possible.', 'poster_path': '/fnRUCA0fjEb3kuIaTGogL7425IC.jpg', 'media_type': 'movie', 'genre_ids': [35, 14, 10751], 'popularity': 276.991, 'release_date': '2023-11-30', 'video': False, 'vote_average': 6.43, 'vote_count': 249}, {'adult': False, 'backdrop_path': '/rBF8wVQN8hTWHspVZBlI3h7HZJ.jpg', 'id': 60625, 'name': 'Rick and Morty', 'original_language': 'en', 'original_name': 'Rick and Morty', 'overview': \"Rick is a mentally-unbalanced but scientifically gifted old man who has recently reconnected with his family. He spends most of his time involving his young grandson Morty in dangerous, outlandish adventures throughout space and alternate universes. Compounded with Morty's already unstable family life, these events cause Morty much distress at home and school.\", 'poster_path': '/gdIrmf2DdY5mgN6ycVP0XlzKzbE.jpg', 'media_type': 'tv', 'genre_ids': [16, 35, 10765, 10759], 'popularity': 1073.426, 'first_air_date': '2013-12-02', 'vote_average': 8.7, 'vote_count': 8887, 'origin_country': ['US']}, {'adult': False, 'backdrop_path': '/nDOIsgCYZqEMvomSR6t9QUIPZJS.jpg', 'id': 60622, 'name': 'Fargo', 'original_language': 'en', 'original_name': 'Fargo', 'overview': 'A close-knit anthology series dealing with stories involving malice, violence and murder based in and around Minnesota.', 'poster_path': '/6U9CPeD8obHzweikFhiLhpc7YBT.jpg', 'media_type': 'tv', 'genre_ids': [80, 18], 'popularity': 1226.816, 'first_air_date': '2014-04-15', 'vote_average': 8.306, 'vote_count': 2352, 'origin_country': ['US']}, {'adult': False, 'backdrop_path': '/3ilssEUqzaq2ZNaBOysxBJnIDt0.jpg', 'id': 230131, 'name': 'South Sea Tomb', 'original_language': 'zh', 'original_name': '南海归墟', 'overview': \"Hu Bayi and Fatty Wang had planned to go abroad with Shirley Yang. However, they were entrusted by Professor Chen to travel to the Coral Spiral with Mr. Ming to search for the Qin Emperor's Bone Mirror. They befriended Ruan Hei, Gucai, and Duoling on Coral Temple Island. Together, they set sail. One night, they were sucked into the underwater cave of Guixu. In despair, Hu Bayi and Shirley Yang decided to risk their lives using the Sun-shooting wooden mechanism to lead everyone out of Guixu.\", 'poster_path': '/tfI2vrPXhpcwhv0CdpNeRKQEOCm.jpg', 'media_type': 'tv', 'genre_ids': [10759, 18], 'popularity': 79.489, 'first_air_date': '2023-11-27', 'vote_average': 8.8, 'vote_count': 5, 'origin_country': ['CN']}, {'adult': False, 'backdrop_path': '/dZbLqRjjiiNCpTYzhzL2NMvz4J0.jpg', 'id': 951491, 'title': 'Saw X', 'original_language': 'en', 'original_title': 'Saw X', 'overview': \"Between the events of 'Saw' and 'Saw II', a sick and desperate John Kramer travels to Mexico for a risky and experimental medical procedure in hopes of a miracle cure for his cancer, only to discover the entire operation is a scam to defraud the most vulnerable. Armed with a newfound purpose, the infamous serial killer returns to his work, turning the tables on the con artists in his signature visceral way through devious, deranged, and ingenious traps.\", 'poster_path': '/aQPeznSu7XDTrrdCtT5eLiu52Yu.jpg', 'media_type': 'movie', 'genre_ids': [27, 53], 'popularity': 307.411, 'release_date': '2023-09-26', 'video': False, 'vote_average': 7.392, 'vote_count': 1241}, {'adult': False, 'backdrop_path': '/2OMB0ynKlyIenMJWI2Dy9IWT4c.jpg', 'id': 1399, 'name': 'Game of Thrones', 'original_language': 'en', 'original_name': 'Game of Thrones', 'overview': \"Seven noble families fight for control of the mythical land of Westeros. Friction between the houses leads to full-scale war. All while a very ancient evil awakens in the farthest north. Amidst the war, a neglected military order of misfits, the Night's Watch, is all that stands between the realms of men and icy horrors beyond.\", 'poster_path': '/1XS1oqL89opfnbLl8WnZY1O1uJx.jpg', 'media_type': 'tv', 'genre_ids': [10765, 18, 10759], 'popularity': 669.306, 'first_air_date': '2011-04-17', 'vote_average': 8.441, 'vote_count': 22258, 'origin_country': ['US']}, {'adult': False, 'backdrop_path': '/tOUm10pidG6qOhMxjEQWPRrLnID.jpg', 'id': 299054, 'title': 'Expend4bles', 'original_language': 'en', 'original_title': 'Expend4bles', 'overview': 'Armed with every weapon they can get their hands on and the skills to use them, The Expendables are the world’s last line of defense and the team that gets called when all other options are off the table. But new team members with new styles and tactics are going to give “new blood” a whole new meaning.', 'poster_path': '/iwsMu0ehRPbtaSxqiaUDQB9qMWT.jpg', 'media_type': 'movie', 'genre_ids': [28, 12, 53], 'popularity': 621.605, 'release_date': '2023-09-15', 'video': False, 'vote_average': 6.421, 'vote_count': 885}, {'adult': False, 'backdrop_path': '/5caSC8v35IwURAByAh7WmXXEDSF.jpg', 'id': 134095, 'name': 'A Murder at the End of the World', 'original_language': 'en', 'original_name': 'A Murder at the End of the World', 'overview': 'Gen Z amateur sleuth and tech-savvy hacker Darby Hart and eight other guests are invited by a reclusive billionaire to participate in a retreat at a remote location. When one of the other guests is found dead, Darby must use her skills to prove it was murder before the killer takes another life.', 'poster_path': '/1mWCXJefbNU1E2XPJVM2vejMSZO.jpg', 'media_type': 'tv', 'genre_ids': [9648, 18, 80], 'popularity': 493.499, 'first_air_date': '2023-11-14', 'vote_average': 7.847, 'vote_count': 36, 'origin_country': ['US']}, {'adult': False, 'backdrop_path': '/oqbcmZJJ1EWkOPiGjqABaUN18rI.jpg', 'id': 1046032, 'title': 'The Bad Guys: A Very Bad Holiday', 'original_language': 'en', 'original_title': 'The Bad Guys: A Very Bad Holiday', 'overview': \"To keep their annual Holiday Heist-tacular afloat, Mr. Wolf and his crew of animal outlaws will have to restore the whole city's Christmas spirit — fast!\", 'poster_path': '/atBDD05PbVDI2lm2OUy1KFQpzen.jpg', 'media_type': 'movie', 'genre_ids': [16, 35, 10751], 'popularity': 473.092, 'release_date': '2023-11-30', 'video': False, 'vote_average': 6.029, 'vote_count': 34}, {'adult': False, 'backdrop_path': '/kBBMF7GWYXzdRSk5w4xwip7yk3U.jpg', 'id': 603692, 'title': 'John Wick: Chapter 4', 'original_language': 'en', 'original_title': 'John Wick: Chapter 4', 'overview': 'With the price on his head ever increasing, John Wick uncovers a path to defeating The High Table. But before he can earn his freedom, Wick must face off against a new enemy with powerful alliances across the globe and forces that turn old friends into foes.', 'poster_path': '/vZloFAK7NmvMGKE7VkF5UHaz0I.jpg', 'media_type': 'movie', 'genre_ids': [28, 53, 80], 'popularity': 372.401, 'release_date': '2023-03-22', 'video': False, 'vote_average': 7.781, 'vote_count': 5137}, {'adult': False, 'backdrop_path': '/5YZbUmjbMa3ClvSW1Wj3D6XGolb.jpg', 'id': 447365, 'title': 'Guardians of the Galaxy Vol. 3', 'original_language': 'en', 'original_title': 'Guardians of the Galaxy Vol. 3', 'overview': 'Peter Quill, still reeling from the loss of Gamora, must rally his team around him to defend the universe along with protecting one of their own. A mission that, if not completed successfully, could quite possibly lead to the end of the Guardians as we know them.', 'poster_path': '/r2J02Z2OpNTctfOSN1Ydgii51I3.jpg', 'media_type': 'movie', 'genre_ids': [878, 12, 28], 'popularity': 305.517, 'release_date': '2023-05-03', 'video': False, 'vote_average': 8.004, 'vote_count': 5455}, {'adult': False, 'backdrop_path': '/9n2tJBplPbgR2ca05hS5CKXwP2c.jpg', 'id': 502356, 'title': 'The Super Mario Bros. Movie', 'original_language': 'en', 'original_title': 'The Super Mario Bros. Movie', 'overview': 'While working underground to fix a water main, Brooklyn plumbers—and brothers—Mario and Luigi are transported down a mysterious pipe and wander into a magical new world. But when the brothers are separated, Mario embarks on an epic quest to find Luigi.', 'poster_path': '/qNBAXBIQlnOThrVvA6mA2B5ggV6.jpg', 'media_type': 'movie', 'genre_ids': [16, 10751, 12, 14, 35], 'popularity': 500.079, 'release_date': '2023-04-05', 'video': False, 'vote_average': 7.737, 'vote_count': 7403}, {'adult': False, 'backdrop_path': '/eSB0fD6CbNW3LT8Z55V07fmYFpo.jpg', 'id': 218539, 'name': 'My Demon', 'original_language': 'ko', 'original_name': '마이데몬', 'overview': 'A pitiless demon becomes powerless after getting entangled with an icy heiress, who may hold the key to his lost abilities — and his heart.', 'poster_path': '/ciRcOqVWR4wiSQRPCPml1X9PaAp.jpg', 'media_type': 'tv', 'genre_ids': [18, 35, 10765], 'popularity': 306.961, 'first_air_date': '2023-11-24', 'vote_average': 8.361, 'vote_count': 36, 'origin_country': ['KR']}, {'adult': False, 'backdrop_path': '/A2QBw5sc6y78JT24NPzHpjiFoqJ.jpg', 'id': 95480, 'name': 'Slow Horses', 'original_language': 'en', 'original_name': 'Slow Horses', 'overview': 'This quick-witted spy drama follows a dysfunctional team of MI5 agents—and their obnoxious boss, the notorious Jackson Lamb—as they navigate the espionage world’s smoke and mirrors to defend England from sinister forces.', 'poster_path': '/vJI9OcHFHxDy6ZeEmXfM5zhApXV.jpg', 'media_type': 'tv', 'genre_ids': [18, 80], 'popularity': 280.185, 'first_air_date': '2022-04-01', 'vote_average': 7.791, 'vote_count': 258, 'origin_country': ['GB']}, {'adult': False, 'backdrop_path': '/r7DuyYJ0N3cD8bRKsR5Ygq2P7oa.jpg', 'id': 980489, 'title': 'Gran Turismo', 'original_language': 'en', 'original_title': 'Gran Turismo', 'overview': 'The ultimate wish-fulfillment tale of a teenage Gran Turismo player whose gaming skills won him a series of Nissan competitions to become an actual professional racecar driver.', 'poster_path': '/51tqzRtKMMZEYUpSYkrUE7v9ehm.jpg', 'media_type': 'movie', 'genre_ids': [12, 28, 18], 'popularity': 350.129, 'release_date': '2023-08-09', 'video': False, 'vote_average': 8.003, 'vote_count': 1594}, {'adult': False, 'backdrop_path': '/4XM8DUTQb3lhLemJC51Jx4a2EuA.jpg', 'id': 385687, 'title': 'Fast X', 'original_language': 'en', 'original_title': 'Fast X', 'overview': \"Over many missions and against impossible odds, Dom Toretto and his family have outsmarted, out-nerved and outdriven every foe in their path. Now, they confront the most lethal opponent they've ever faced: A terrifying threat emerging from the shadows of the past who's fueled by blood revenge, and who is determined to shatter this family and destroy everything—and everyone—that Dom loves, forever.\", 'poster_path': '/fiVW06jE7z9YnO4trhaMEdclSiC.jpg', 'media_type': 'movie', 'genre_ids': [28, 80, 53], 'popularity': 744.348, 'release_date': '2023-05-17', 'video': False, 'vote_average': 7.196, 'vote_count': 4439}, {'adult': False, 'backdrop_path': '/ixZzr4PyM2TPs5fka3IJj058WYo.jpg', 'id': 565770, 'title': 'Blue Beetle', 'original_language': 'en', 'original_title': 'Blue Beetle', 'overview': 'Recent college grad Jaime Reyes returns home full of aspirations for his future, only to find that home is not quite as he left it. As he searches to find his purpose in the world, fate intervenes when Jaime unexpectedly finds himself in possession of an ancient relic of alien biotechnology: the Scarab.', 'poster_path': '/mXLOHHc1Zeuwsl4xYKjKh2280oL.jpg', 'media_type': 'movie', 'genre_ids': [28, 878, 12], 'popularity': 369.436, 'release_date': '2023-08-16', 'video': False, 'vote_average': 6.927, 'vote_count': 1865}, {'adult': False, 'backdrop_path': '/8rpDcsfLJypbO6vREc0547VKqEv.jpg', 'id': 76600, 'title': 'Avatar: The Way of Water', 'original_language': 'en', 'original_title': 'Avatar: The Way of Water', 'overview': 'Set more than a decade after the events of the first film, learn the story of the Sully family (Jake, Neytiri, and their kids), the trouble that follows them, the lengths they go to keep each other safe, the battles they fight to stay alive, and the tragedies they endure.', 'poster_path': '/t6HIqrRAclMCA60NsSmeqe9RmNV.jpg', 'media_type': 'movie', 'genre_ids': [878, 12, 28], 'popularity': 377.81, 'release_date': '2022-12-14', 'video': False, 'vote_average': 7.651, 'vote_count': 10321}, {'adult': False, 'backdrop_path': '/it34RMnArwzl38hoAtgXfCkkqpX.jpg', 'id': 204999, 'name': 'Faraway Downs', 'original_language': 'en', 'original_name': 'Faraway Downs', 'overview': 'The story of an English aristocrat, Lady Sarah Ashley, who inherits a large cattle ranch in Australia after her husband dies. When Australian cattle barons plot to take her land, she joins forces with a cattle drover to protect her ranch.', 'poster_path': '/pdD1STyfzRMo9xp1Nvt957K5sA9.jpg', 'media_type': 'tv', 'genre_ids': [10759, 18], 'popularity': 101.041, 'first_air_date': '2023-11-26', 'vote_average': 6.8, 'vote_count': 21, 'origin_country': ['US']}, {'adult': False, 'backdrop_path': '/zNugnnR5KEmq9EzLcl0Me1UmHYk.jpg', 'id': 120089, 'name': 'SPY x FAMILY', 'original_language': 'ja', 'original_name': 'SPY×FAMILY', 'overview': 'World peace is at stake and secret agent Twilight must undergo his most difficult mission yet—pretend to be a family man. Posing as a loving husband and father, he’ll infiltrate an elite school to get close to a high-profile politician. He has the perfect cover, except his wife’s a deadly assassin and neither knows each other’s identity. But someone does, his adopted daughter who’s a telepath!', 'poster_path': '/7NAvPYPAu7MeHwP8E9sn81PqsRh.jpg', 'media_type': 'tv', 'genre_ids': [16, 35, 10759], 'popularity': 345.634, 'first_air_date': '2022-04-09', 'vote_average': 8.607, 'vote_count': 1556, 'origin_country': ['JP']}, {'adult': False, 'backdrop_path': '/kG8iWrKGNlrUM7LfT6zJEOXglZd.jpg', 'id': 945937, 'title': 'Fast Charlie', 'original_language': 'en', 'original_title': 'Fast Charlie', 'overview': 'When his aging mob boss is whacked, Charlie Swift, a loyal friend and hired gun, will stop at nothing to destroy the upcoming crew that took him out.', 'poster_path': '/3y72ffwYRUPOj4yOQbiTaN897Tm.jpg', 'media_type': 'movie', 'genre_ids': [28, 80, 18], 'popularity': 169.511, 'release_date': '2023-12-08', 'video': False, 'vote_average': 6.3, 'vote_count': 14}, {'adult': False, 'backdrop_path': '/8VWgyQjExeMgeg6Qzv6agduMU1A.jpg', 'id': 121, 'name': 'Doctor Who', 'original_language': 'en', 'original_name': 'Doctor Who', 'overview': 'The adventures of The Doctor, a time-traveling humanoid alien known as a Time Lord. He explores the universe in his TARDIS, a sentient time-traveling spaceship. Its exterior appears as a blue British police box, which was a common sight in Britain in 1963 when the series first aired. Along with a succession of companions, The Doctor faces a variety of foes while working to save civilizations, help ordinary people, and right many wrongs.', 'poster_path': '/xinqAmYrZ1TEwowcQhgTkZVtVE0.jpg', 'media_type': 'tv', 'genre_ids': [10759, 18, 10765], 'popularity': 1135.168, 'first_air_date': '1963-11-23', 'vote_average': 7.905, 'vote_count': 533, 'origin_country': ['GB']}, {'adult': False, 'backdrop_path': '/nTvM4mhqNlHIvUkI1gVnW6XP7GG.jpg', 'id': 85937, 'name': 'Demon Slayer: Kimetsu no Yaiba', 'original_language': 'ja', 'original_name': '鬼滅の刃', 'overview': 'It is the Taisho Period in Japan. Tanjiro, a kindhearted boy who sells charcoal for a living, finds his family slaughtered by a demon. To make matters worse, his younger sister Nezuko, the sole survivor, has been transformed into a demon herself. Though devastated by this grim reality, Tanjiro resolves to become a “demon slayer” so that he can turn his sister back into a human, and kill the demon that massacred his family.', 'poster_path': '/xUfRZu2mi8jH6SzQEJGP6tjBuYj.jpg', 'media_type': 'tv', 'genre_ids': [16, 10759, 10765], 'popularity': 83.011, 'first_air_date': '2019-04-06', 'vote_average': 8.683, 'vote_count': 5752, 'origin_country': ['JP']}, {'adult': False, 'backdrop_path': '/rzdPqYx7Um4FUZeD8wpXqjAUcEm.jpg', 'id': 597, 'title': 'Titanic', 'original_language': 'en', 'original_title': 'Titanic', 'overview': \"101-year-old Rose DeWitt Bukater tells the story of her life aboard the Titanic, 84 years later. A young Rose boards the ship with her mother and fiancé. Meanwhile, Jack Dawson and Fabrizio De Rossi win third-class tickets aboard the ship. Rose tells the whole story from Titanic's departure through to its death—on its first and last voyage—on April 15, 1912.\", 'poster_path': '/9xjZS2rlVxm8SFx8kPC3aIGCOYQ.jpg', 'media_type': 'movie', 'genre_ids': [18, 10749], 'popularity': 187.037, 'release_date': '1997-11-18', 'video': False, 'vote_average': 7.9, 'vote_count': 23936}, {'adult': False, 'backdrop_path': '/hziiv14OpD73u9gAak4XDDfBKa2.jpg', 'id': 671, 'title': \"Harry Potter and the Philosopher's Stone\", 'original_language': 'en', 'original_title': \"Harry Potter and the Philosopher's Stone\", 'overview': \"Harry Potter has lived under the stairs at his aunt and uncle's house his whole life. But on his 11th birthday, he learns he's a powerful wizard—with a place waiting for him at the Hogwarts School of Witchcraft and Wizardry. As he learns to harness his newfound powers with the help of the school's kindly headmaster, Harry uncovers the truth about his parents' deaths—and about the villain who's to blame.\", 'poster_path': '/wuMc08IPKEatf9rnMNXvIDxqP4W.jpg', 'media_type': 'movie', 'genre_ids': [12, 14], 'popularity': 212.569, 'release_date': '2001-11-16', 'video': False, 'vote_average': 7.916, 'vote_count': 25739}, {'adult': False, 'backdrop_path': '/dfmPbyeZZSz3bekeESvMJaH91gS.jpg', 'id': 95557, 'name': 'Invincible', 'original_language': 'en', 'original_name': 'Invincible', 'overview': 'Mark Grayson is a normal teenager except for the fact that his father is the most powerful superhero on the planet. Shortly after his seventeenth birthday, Mark begins to develop powers of his own and enters into his father’s tutelage.', 'poster_path': '/dMOpdkrDC5dQxqNydgKxXjBKyAc.jpg', 'media_type': 'tv', 'genre_ids': [16, 10765, 10759, 18], 'popularity': 509.925, 'first_air_date': '2021-03-25', 'vote_average': 8.672, 'vote_count': 3934, 'origin_country': ['US']}, {'adult': False, 'backdrop_path': '/a21obwG9qMSf1qa6oG4ZgpOyMaA.jpg', 'id': 870358, 'title': 'Merry Little Batman', 'original_language': 'en', 'original_title': 'Merry Little Batman', 'overview': 'This Christmas, Damian Wayne wants to be a superhero like his dad – the one and only Batman. When Damian is left home alone while Batman takes on Gotham’s worst supervillains on Christmas Eve, he stumbles upon a villainous plot to steal Christmas and leaps at the chance to save the day.', 'poster_path': '/2J70guF8wcErbYbRgZUBcvShgI1.jpg', 'media_type': 'movie', 'genre_ids': [16, 28, 10751, 35], 'popularity': 143.595, 'release_date': '2023-12-08', 'video': False, 'vote_average': 6.586, 'vote_count': 35}, {'adult': False, 'backdrop_path': '/bCFhGBYSLFSVdZmBZ6sENhMmi2Z.jpg', 'id': 771, 'title': 'Home Alone', 'original_language': 'en', 'original_title': 'Home Alone', 'overview': \"Eight-year-old Kevin McCallister makes the most of the situation after his family unwittingly leaves him behind when they go on Christmas vacation. But when a pair of bungling burglars set their sights on Kevin's house, the plucky kid stands ready to defend his territory. By planting booby traps galore, adorably mischievous Kevin stands his ground as his frantic mother attempts to race home before Christmas Day.\", 'poster_path': '/9wSbe4CwObACCQvaUVhWQyLR5Vz.jpg', 'media_type': 'movie', 'genre_ids': [35, 10751], 'popularity': 14.793, 'release_date': '1990-11-16', 'video': False, 'vote_average': 7.417, 'vote_count': 10348}, {'adult': False, 'backdrop_path': '/azD31DjpV3PJfjF3h72LVw2WCSD.jpg', 'id': 807172, 'title': 'The Exorcist: Believer', 'original_language': 'en', 'original_title': 'The Exorcist: Believer', 'overview': \"When two girls disappear into the woods and return three days later with no memory of what happened to them, the father of one girl seeks out Chris MacNeil, who's been forever altered by what happened to her daughter fifty years ago.\", 'poster_path': '/fFXkAlMH2iQrNknv4eq7LGTkcti.jpg', 'media_type': 'movie', 'genre_ids': [27], 'popularity': 259.397, 'release_date': '2023-10-04', 'video': False, 'vote_average': 6.191, 'vote_count': 653}, {'adult': False, 'backdrop_path': '/ktHEdqmMWC1wdfPRMRCTZe2OISL.jpg', 'id': 1071215, 'title': 'Thanksgiving', 'original_language': 'en', 'original_title': 'Thanksgiving', 'overview': 'After a Black Friday riot ends in tragedy, a mysterious Thanksgiving-inspired killer terrorizes Plymouth, Massachusetts - the birthplace of the holiday. Picking off residents one by one, what begins as random revenge killings are soon revealed to be part of a larger, sinister holiday plan.', 'poster_path': '/f5f3TEVst1nHHyqgn7Z3tlwnBIH.jpg', 'media_type': 'movie', 'genre_ids': [27, 53, 9648], 'popularity': 202.451, 'release_date': '2023-11-16', 'video': False, 'vote_average': 6.374, 'vote_count': 99}, {'adult': False, 'backdrop_path': '/2vFuG6bWGyQUzYS9d69E5l85nIz.jpg', 'id': 667538, 'title': 'Transformers: Rise of the Beasts', 'original_language': 'en', 'original_title': 'Transformers: Rise of the Beasts', 'overview': 'When a new threat capable of destroying the entire planet emerges, Optimus Prime and the Autobots must team up with a powerful faction known as the Maximals. With the fate of humanity hanging in the balance, humans Noah and Elena will do whatever it takes to help the Transformers as they engage in the ultimate battle to save Earth.', 'poster_path': '/gPbM0MK8CP8A174rmUwGsADNYKD.jpg', 'media_type': 'movie', 'genre_ids': [28, 12, 878], 'popularity': 401.965, 'release_date': '2023-06-06', 'video': False, 'vote_average': 7.436, 'vote_count': 3674}, {'adult': False, 'backdrop_path': '/a3AzYS2JiZ9GdHiAxDTmIajKgH0.jpg', 'id': 823464, 'title': 'Godzilla x Kong: The New Empire', 'original_language': 'en', 'original_title': 'Godzilla x Kong: The New Empire', 'overview': 'Following their explosive showdown, Godzilla and Kong must reunite against a colossal undiscovered threat hidden within our world, challenging their very existence – and our own.', 'poster_path': '/bQ2ywkchIiaKLSEaMrcT6e29f91.jpg', 'media_type': 'movie', 'genre_ids': [28, 878, 12], 'popularity': 264.117, 'release_date': '2024-04-10', 'video': False, 'vote_average': 0.0, 'vote_count': 0}, {'adult': False, 'backdrop_path': '/vi0TpQbbZ8FWTRBmawbvegMRbtc.jpg', 'id': 87917, 'name': 'For All Mankind', 'original_language': 'en', 'original_name': 'For All Mankind', 'overview': 'Explore an aspirational world where NASA and the space program remained a priority and a focal point of our hopes and dreams as told through the lives of NASA astronauts, engineers, and their families.', 'poster_path': '/mNXT1QjRCEasXGH3rHCTQm0A0Su.jpg', 'media_type': 'tv', 'genre_ids': [18, 10765, 10768], 'popularity': 178.676, 'first_air_date': '2019-11-01', 'vote_average': 7.7, 'vote_count': 548, 'origin_country': ['US']}, {'adult': False, 'backdrop_path': '/zgQQF04u3OgNBJqClRNby1FPz9s.jpg', 'id': 893723, 'title': 'PAW Patrol: The Mighty Movie', 'original_language': 'en', 'original_title': 'PAW Patrol: The Mighty Movie', 'overview': 'A magical meteor crash lands in Adventure City and gives the PAW Patrol pups superpowers, transforming them into The Mighty Pups.', 'poster_path': '/aTvePCU7exLepwg5hWySjwxojQK.jpg', 'media_type': 'movie', 'genre_ids': [16, 10751, 28, 878, 35], 'popularity': 351.496, 'release_date': '2023-09-21', 'video': False, 'vote_average': 6.9, 'vote_count': 186}, {'adult': False, 'backdrop_path': '/zZnsfR6BRqtxyLyAhsi2TMukEBx.jpg', 'id': 1047041, 'title': 'Detective Conan: Black Iron Submarine', 'original_language': 'ja', 'original_title': '名探偵コナン 黒鉄の魚影（サブマリン）', 'overview': 'Many engineers from around the world gather at the Interpol marine facility \"Pacific Buoy\" on Hachijo-jima, in the sea south of central Tokyo Prefecture coast, to witness the launch of a new system that connects all law enforcement camera systems around the world and enables facial recognition worldwide. Conan, along with his friends Kogoro, Ran, Agasa, Haibara, and the Detective Boys, also heads to the island with an invitation from Sonoko to see the whales. He receives a message from Subaru, who says that a Europol agent has been murdered in Germany by Gin. Perturbed, Conan sneaks onto the police ship led by Kuroda, which is bringing them to the island to protect the completion work, and tours the new facility, just in time for the Black Organization to kidnap a female engineer, seeking a piece of important data in her USB drive. A terrifying howl of screws is heard from the ocean as an unknown person approaches Haibara.', 'poster_path': '/ksQ8uNgoWsVH6a0oPB6zx08pOwU.jpg', 'media_type': 'movie', 'genre_ids': [16, 28, 80, 9648], 'popularity': 107.908, 'release_date': '2023-04-14', 'video': False, 'vote_average': 6.6, 'vote_count': 55}, {'adult': False, 'backdrop_path': '/4uHyfIApZSRXSVEqSuk92PdN8Yx.jpg', 'id': 8871, 'title': 'How the Grinch Stole Christmas', 'original_language': 'en', 'original_title': 'How the Grinch Stole Christmas', 'overview': 'The Grinch decides to rob Whoville of Christmas - but a dash of kindness from little Cindy Lou Who and her family may be enough to melt his heart...', 'poster_path': '/52EpMoLTTbKAkM6rSrnNHV2mpLF.jpg', 'media_type': 'movie', 'genre_ids': [10751, 35, 14], 'popularity': 372.03, 'release_date': '2000-11-17', 'video': False, 'vote_average': 6.757, 'vote_count': 6847}, {'adult': False, 'backdrop_path': '/gN79aDbZdaSJkFS1iVA17HplF2X.jpg', 'id': 968051, 'title': 'The Nun II', 'original_language': 'en', 'original_title': 'The Nun II', 'overview': 'In 1956 France, a priest is violently murdered, and Sister Irene begins to investigate. She once again comes face-to-face with a powerful evil.', 'poster_path': '/5gzzkR7y3hnY8AD1wXjCnVlHba5.jpg', 'media_type': 'movie', 'genre_ids': [27, 9648, 53], 'popularity': 341.669, 'release_date': '2023-09-06', 'video': False, 'vote_average': 6.913, 'vote_count': 1508}, {'adult': False, 'backdrop_path': '/5mzr6JZbrqnqD8rCEvPhuCE5Fw2.jpg', 'id': 615656, 'title': 'Meg 2: The Trench', 'original_language': 'en', 'original_title': 'Meg 2: The Trench', 'overview': 'An exploratory dive into the deepest depths of the ocean of a daring research team spirals into chaos when a malevolent mining operation threatens their mission and forces them into a high-stakes battle for survival.', 'poster_path': '/4m1Au3YkjqsxF8iwQy0fPYSxE0h.jpg', 'media_type': 'movie', 'genre_ids': [28, 878, 27], 'popularity': 406.694, 'release_date': '2023-08-02', 'video': False, 'vote_average': 6.717, 'vote_count': 2657}, {'adult': False, 'backdrop_path': '/l0qVZIpXtIo7km9u5Yqh0nKPOr5.jpg', 'id': 1668, 'name': 'Friends', 'original_language': 'en', 'original_name': 'Friends', 'overview': 'Six young people from New York City, on their own and struggling to survive in the real world, find the companionship, comfort and support they get from each other to be the perfect antidote to the pressures of life.', 'poster_path': '/2koX1xLkpTQM4IZebYvKysFW1Nh.jpg', 'media_type': 'tv', 'genre_ids': [35], 'popularity': 885.567, 'first_air_date': '1994-09-22', 'vote_average': 8.443, 'vote_count': 7371, 'origin_country': ['US']}, {'adult': False, 'backdrop_path': '/xJHokMbljvjADYdit5fK5VQsXEG.jpg', 'id': 157336, 'title': 'Interstellar', 'original_language': 'en', 'original_title': 'Interstellar', 'overview': 'The adventures of a group of explorers who make use of a newly discovered wormhole to surpass the limitations on human space travel and conquer the vast distances involved in an interstellar voyage.', 'poster_path': '/gEU2QniE6E77NI6lCU6MxlNBvIx.jpg', 'media_type': 'movie', 'genre_ids': [12, 18, 878], 'popularity': 170.34, 'release_date': '2014-11-05', 'video': False, 'vote_average': 8.422, 'vote_count': 33076}, {'adult': False, 'backdrop_path': '/9faGSFi5jam6pDWGNd0p8JcJgXQ.jpg', 'id': 1396, 'name': 'Breaking Bad', 'original_language': 'en', 'original_name': 'Breaking Bad', 'overview': \"When Walter White, a New Mexico chemistry teacher, is diagnosed with Stage III cancer and given a prognosis of only two years left to live. He becomes filled with a sense of fearlessness and an unrelenting desire to secure his family's financial future at any cost as he enters the dangerous world of drugs and crime.\", 'poster_path': '/3xnWaLQjelJDDF7LT1WBo6f4BRe.jpg', 'media_type': 'tv', 'genre_ids': [18, 80], 'popularity': 328.457, 'first_air_date': '2008-01-20', 'vote_average': 8.896, 'vote_count': 12752, 'origin_country': ['US']}, {'adult': False, 'backdrop_path': '/4fLZUr1e65hKPPVw0R3PmKFKxj1.jpg', 'id': 976573, 'title': 'Elemental', 'original_language': 'en', 'original_title': 'Elemental', 'overview': 'In a city where fire, water, land and air residents live together, a fiery young woman and a go-with-the-flow guy will discover something elemental: how much they have in common.', 'poster_path': '/4Y1WNkd88JXmGfhtWR7dmDAo1T2.jpg', 'media_type': 'movie', 'genre_ids': [16, 35, 10751, 14, 10749], 'popularity': 420.255, 'release_date': '2023-06-14', 'video': False, 'vote_average': 7.721, 'vote_count': 3187}, {'adult': False, 'backdrop_path': '/x2RS3uTcsJJ9IfjNPcgDmukoEcQ.jpg', 'id': 120, 'title': 'The Lord of the Rings: The Fellowship of the Ring', 'original_language': 'en', 'original_title': 'The Lord of the Rings: The Fellowship of the Ring', 'overview': 'Young hobbit Frodo Baggins, after inheriting a mysterious ring from his uncle Bilbo, must leave his home in order to keep it from falling into the hands of its evil creator. Along the way, a fellowship is formed to protect the ringbearer and make sure that the ring arrives at its final destination: Mt. Doom, the only place where it can be destroyed.', 'poster_path': '/6oom5QYQ2yQTMJIbnvbkBL9cHo6.jpg', 'media_type': 'movie', 'genre_ids': [12, 14, 28], 'popularity': 195.554, 'release_date': '2001-12-18', 'video': False, 'vote_average': 8.406, 'vote_count': 23641}, {'adult': False, 'backdrop_path': '/14QbnygCuTO0vl7CAFmPf1fgZfV.jpg', 'id': 634649, 'title': 'Spider-Man: No Way Home', 'original_language': 'en', 'original_title': 'Spider-Man: No Way Home', 'overview': 'Peter Parker is unmasked and no longer able to separate his normal life from the high-stakes of being a super-hero. When he asks for help from Doctor Strange the stakes become even more dangerous, forcing him to discover what it truly means to be Spider-Man.', 'poster_path': '/5weKu49pzJCt06OPpjvT80efnQj.jpg', 'media_type': 'movie', 'genre_ids': [28, 12, 878], 'popularity': 310.403, 'release_date': '2021-12-15', 'video': False, 'vote_average': 7.984, 'vote_count': 18635}, {'adult': False, 'backdrop_path': '/gsVC7HMf4VR2XFOyqjTSklY2Tms.jpg', 'id': 792307, 'title': 'Poor Things', 'original_language': 'en', 'original_title': 'Poor Things', 'overview': 'Brought back to life by an unorthodox scientist, a young woman runs off with a lawyer on a whirlwind adventure across the continents. Free from the prejudices of her times, she grows steadfast in her purpose to stand for equality and liberation.', 'poster_path': '/hplhTGTmKoz85Z9UBZ9kYOxtzm0.jpg', 'media_type': 'movie', 'genre_ids': [878, 35, 14], 'popularity': 134.606, 'release_date': '2023-12-07', 'video': False, 'vote_average': 10.0, 'vote_count': 1}, {'adult': False, 'backdrop_path': '/jYEW5xZkZk2WTrdbMGAPFuBqbDc.jpg', 'id': 438631, 'title': 'Dune', 'original_language': 'en', 'original_title': 'Dune', 'overview': \"Paul Atreides, a brilliant and gifted young man born into a great destiny beyond his understanding, must travel to the most dangerous planet in the universe to ensure the future of his family and his people. As malevolent forces explode into conflict over the planet's exclusive supply of the most precious resource in existence-a commodity capable of unlocking humanity's greatest potential-only those who can conquer their fear will survive.\", 'poster_path': '/d5NXSklXo0qyIYkgV94XAgMIckC.jpg', 'media_type': 'movie', 'genre_ids': [878, 12], 'popularity': 109.439, 'release_date': '2021-09-15', 'video': False, 'vote_average': 7.8, 'vote_count': 9678}, {'adult': False, 'backdrop_path': '/Aa9TLpNpBMyRkD8sPJ7ACKLjt0l.jpg', 'id': 94997, 'name': 'House of the Dragon', 'original_language': 'en', 'original_name': 'House of the Dragon', 'overview': 'The Targaryen dynasty is at the absolute apex of its power, with more than 15 dragons under their yoke. Most empires crumble from such heights. In the case of the Targaryens, their slow fall begins when King Viserys breaks with a century of tradition by naming his daughter Rhaenyra heir to the Iron Throne. But when Viserys later fathers a son, the court is shocked when Rhaenyra retains her status as his heir, and seeds of division sow friction across the realm.', 'poster_path': '/z2yahl2uefxDCl0nogcRBstwruJ.jpg', 'media_type': 'tv', 'genre_ids': [10765, 18, 10759], 'popularity': 254.91, 'first_air_date': '2022-08-21', 'vote_average': 8.437, 'vote_count': 3558, 'origin_country': ['US']}, {'adult': False, 'backdrop_path': '/iIvQnZyzgx9TkbrOgcXx0p7aLiq.jpg', 'id': 1008042, 'title': 'Talk to Me', 'original_language': 'en', 'original_title': 'Talk to Me', 'overview': 'When a group of friends discover how to conjure spirits using an embalmed hand, they become hooked on the new thrill, until one of them goes too far and unleashes terrifying supernatural forces.', 'poster_path': '/kdPMUMJzyYAc4roD52qavX0nLIC.jpg', 'media_type': 'movie', 'genre_ids': [27, 53], 'popularity': 232.455, 'release_date': '2023-07-26', 'video': False, 'vote_average': 7.198, 'vote_count': 1873}, {'adult': False, 'backdrop_path': '/4qCqAdHcNKeAHcK8tJ8wNJZa9cx.jpg', 'id': 11, 'title': 'Star Wars', 'original_language': 'en', 'original_title': 'Star Wars', 'overview': 'Princess Leia is captured and held hostage by the evil Imperial forces in their effort to take over the galactic Empire. Venturesome Luke Skywalker and dashing captain Han Solo team together with the loveable robot duo R2-D2 and C-3PO to rescue the beautiful princess and restore peace and justice in the Empire.', 'poster_path': '/6FfCtAuVAW8XJjZ7eWeLibRLWTw.jpg', 'media_type': 'movie', 'genre_ids': [12, 28, 878], 'popularity': 92.165, 'release_date': '1977-05-25', 'video': False, 'vote_average': 8.205, 'vote_count': 19392}, {'adult': False, 'backdrop_path': '/xmQMrlYc3IlzpDMPKtfl9sVf7mw.jpg', 'id': 157732, 'name': 'Lawmen: Bass Reeves', 'original_language': 'en', 'original_name': 'Lawmen: Bass Reeves', 'overview': 'The story of Bass Reeves, the legendary lawman of the wild West, is brought to life. Reeves worked in the post-Reconstruction era as a federal peace officer in the Indian Territory, capturing over 3,000 of the most dangerous criminals without ever being wounded—and is believed to be the inspiration for The Lone Ranger.', 'poster_path': '/g5YvjqykQe2ZZK1C6qBXrM9EG1i.jpg', 'media_type': 'tv', 'genre_ids': [18], 'popularity': 115.35, 'first_air_date': '2023-11-05', 'vote_average': 7.283, 'vote_count': 30, 'origin_country': ['US']}, {'adult': False, 'backdrop_path': '/thLAoL6VeZGmCyDpCOeoxLvA8yS.jpg', 'id': 76479, 'name': 'The Boys', 'original_language': 'en', 'original_name': 'The Boys', 'overview': 'A group of vigilantes known informally as “The Boys” set out to take down corrupt superheroes with no more than blue-collar grit and a willingness to fight dirty.', 'poster_path': '/7Ns6tO3aYjppI5bFhyYZurOYGBT.jpg', 'media_type': 'tv', 'genre_ids': [10765, 10759], 'popularity': 260.655, 'first_air_date': '2019-07-25', 'vote_average': 8.468, 'vote_count': 8977, 'origin_country': ['US']}, {'adult': False, 'backdrop_path': '/p1pniliUSvg0uUBDQ0kmOcXafeM.jpg', 'id': 216985, 'name': 'Blood Coast', 'original_language': 'fr', 'original_name': 'Pax Massilia', 'overview': 'As a vicious drug dealer tries to overtake Marseille, a rogue police captain and his daredevil team welcome a new recruit with an agenda of her own.', 'poster_path': '/pKvpiFL4pxrixwpHg77s9oQqfNl.jpg', 'media_type': 'tv', 'genre_ids': [10759, 80], 'popularity': 283.056, 'first_air_date': '2023-12-06', 'vote_average': 7.7, 'vote_count': 26, 'origin_country': ['FR']}, {'adult': False, 'backdrop_path': '/aWnEtYJn31swY2pC8cOtje98bYc.jpg', 'id': 65494, 'name': 'The Crown', 'original_language': 'en', 'original_name': 'The Crown', 'overview': \"The gripping, decades-spanning inside story of Her Majesty Queen Elizabeth II and the Prime Ministers who shaped Britain's post-war destiny. \\n\\nThe Crown tells the inside story of two of the most famous addresses in the world – Buckingham Palace and 10 Downing Street – and the intrigues, love lives and machinations behind the great events that shaped the second half of the 20th century. Two houses, two courts, one Crown.\", 'poster_path': '/1M876KPjulVwppEpldhdc8V4o68.jpg', 'media_type': 'tv', 'genre_ids': [18], 'popularity': 197.07, 'first_air_date': '2016-11-04', 'vote_average': 8.223, 'vote_count': 1859, 'origin_country': ['GB', 'US']}, {'adult': False, 'backdrop_path': '/w2nFc2Rsm93PDkvjY4LTn17ePO0.jpg', 'id': 614930, 'title': 'Teenage Mutant Ninja Turtles: Mutant Mayhem', 'original_language': 'en', 'original_title': 'Teenage Mutant Ninja Turtles: Mutant Mayhem', 'overview': \"After years of being sheltered from the human world, the Turtle brothers set out to win the hearts of New Yorkers and be accepted as normal teenagers through heroic acts. Their new friend April O'Neil helps them take on a mysterious crime syndicate, but they soon get in over their heads when an army of mutants is unleashed upon them.\", 'poster_path': '/ueO9MYIOHO7M1PiMUeX74uf8fB9.jpg', 'media_type': 'movie', 'genre_ids': [16, 35, 28, 878], 'popularity': 186.508, 'release_date': '2023-07-31', 'video': False, 'vote_average': 7.293, 'vote_count': 881}, {'adult': False, 'backdrop_path': '/96RT2A47UdzWlUfvIERFyBsLhL2.jpg', 'id': 209867, 'name': \"Frieren: Beyond Journey's End\", 'original_language': 'ja', 'original_name': '葬送のフリーレン', 'overview': 'After the party of heroes defeated the Demon King, they restored peace to the land and returned to lives of solitude. Generations pass, and the elven mage Frieren comes face to face with humanity’s mortality. She takes on a new apprentice and promises to fulfill old friends’ dying wishes. Can an elven mind make peace with the nature of life and death? Frieren embarks on her quest to find out.', 'poster_path': '/dqZENchTd7lp5zht7BdlqM7RBhD.jpg', 'media_type': 'tv', 'genre_ids': [16, 18, 10759, 10765], 'popularity': 119.934, 'first_air_date': '2023-09-29', 'vote_average': 8.927, 'vote_count': 48, 'origin_country': ['JP']}, {'adult': False, 'backdrop_path': '/gUJzW87AXPqb4LVMJx3qQ5VWILP.jpg', 'id': 155292, 'name': 'Scott Pilgrim Takes Off', 'original_language': 'en', 'original_name': 'Scott Pilgrim Takes Off', 'overview': 'Scott Pilgrim meets the girl of his dreams, Ramona Flowers, only to find out her seven evil exes stand in the way of their love.', 'poster_path': '/nHROk2C6bv8LqtvyYd0tCMURbxC.jpg', 'media_type': 'tv', 'genre_ids': [16, 10759, 35, 10765], 'popularity': 126.056, 'first_air_date': '2023-11-17', 'vote_average': 8.25, 'vote_count': 118, 'origin_country': ['JP', 'GB', 'US']}, {'adult': False, 'backdrop_path': '/nMKdUUepR0i5zn0y1T4CsSB5chy.jpg', 'id': 155, 'title': 'The Dark Knight', 'original_language': 'en', 'original_title': 'The Dark Knight', 'overview': 'Batman raises the stakes in his war on crime. With the help of Lt. Jim Gordon and District Attorney Harvey Dent, Batman sets out to dismantle the remaining criminal organizations that plague the streets. The partnership proves to be effective, but they soon find themselves prey to a reign of chaos unleashed by a rising criminal mastermind known to the terrified citizens of Gotham as the Joker.', 'poster_path': '/qJ2tW6WMUDux911r6m7haRef0WH.jpg', 'media_type': 'movie', 'genre_ids': [18, 28, 80, 53], 'popularity': 121.0, 'release_date': '2008-07-16', 'video': False, 'vote_average': 8.513, 'vote_count': 31036}, {'adult': False, 'backdrop_path': '/7RyHsO4yDXtBv1zUU3mTpHeQ0d5.jpg', 'id': 299534, 'title': 'Avengers: Endgame', 'original_language': 'en', 'original_title': 'Avengers: Endgame', 'overview': \"After the devastating events of Avengers: Infinity War, the universe is in ruins due to the efforts of the Mad Titan, Thanos. With the help of remaining allies, the Avengers must assemble once more in order to undo Thanos' actions and restore order to the universe once and for all, no matter what consequences may be in store.\", 'poster_path': '/or06FN3Dka5tukK1e9sl16pB3iy.jpg', 'media_type': 'movie', 'genre_ids': [12, 878, 28], 'popularity': 123.836, 'release_date': '2019-04-24', 'video': False, 'vote_average': 8.261, 'vote_count': 24169}, {'adult': False, 'backdrop_path': '/urzEsxKKNgCan2mX5z5heXbUyef.jpg', 'id': 205715, 'name': 'Gen V', 'original_language': 'en', 'original_name': 'Gen V', 'overview': \"At America's only college for superheroes, gifted students put their moral boundaries to the test, competing for the university's top ranking, and a chance to join The Seven, Vought International's elite superhero team. When the school's dark secrets come to light, they must decide what kind of heroes they want to become.\", 'poster_path': '/uuot1N5AgZ7xRCKgm4ZCwOhgIJu.jpg', 'media_type': 'tv', 'genre_ids': [10759, 18, 10765], 'popularity': 268.974, 'first_air_date': '2023-09-28', 'vote_average': 8.051, 'vote_count': 512, 'origin_country': ['US']}, {'adult': False, 'backdrop_path': '/9PYzI9OOp2gnfVYaWDr0xThHmxA.jpg', 'id': 225180, 'name': 'BLUE EYE SAMURAI', 'original_language': 'en', 'original_name': 'BLUE EYE SAMURAI', 'overview': 'Driven by a dream of revenge against those who made her an outcast in Edo-period Japan, a young warrior cuts a bloody path toward her destiny.', 'poster_path': '/fXm3JT4WLQVnwukdvghtAblc1wc.jpg', 'media_type': 'tv', 'genre_ids': [10759, 16, 18], 'popularity': 154.005, 'first_air_date': '2023-11-03', 'vote_average': 8.664, 'vote_count': 119, 'origin_country': ['US']}, {'adult': False, 'backdrop_path': '/yF1eOkaYvwiORauRCPWznV9xVvi.jpg', 'id': 298618, 'title': 'The Flash', 'original_language': 'en', 'original_title': 'The Flash', 'overview': \"When his attempt to save his family inadvertently alters the future, Barry Allen becomes trapped in a reality in which General Zod has returned and there are no Super Heroes to turn to. In order to save the world that he is in and return to the future that he knows, Barry's only hope is to race for his life. But will making the ultimate sacrifice be enough to reset the universe?\", 'poster_path': '/rktDFPbfHfUbArZ6OOOKsXcv0Bm.jpg', 'media_type': 'movie', 'genre_ids': [28, 12, 878], 'popularity': 299.314, 'release_date': '2023-06-13', 'video': False, 'vote_average': 6.827, 'vote_count': 3328}, {'adult': False, 'backdrop_path': '/cUHxmWfkp6se0Rt10Kr86bMCYDE.jpg', 'id': 1016084, 'title': 'BlackBerry', 'original_language': 'en', 'original_title': 'BlackBerry', 'overview': \"Two mismatched entrepreneurs – egghead innovator Mike Lazaridis and cut-throat businessman Jim Balsillie – joined forces in an endeavour that was to become a worldwide hit in little more than a decade. The story of the meteoric rise and catastrophic demise of the world's first smartphone.\", 'poster_path': '/epOBb35Ic9oKwf6OUfhurvFovQG.jpg', 'media_type': 'movie', 'genre_ids': [35, 18, 36], 'popularity': 66.341, 'release_date': '2023-02-13', 'video': False, 'vote_average': 7.195, 'vote_count': 264}, {'adult': False, 'backdrop_path': '/xUWf5xX0AnZgAnYXAMk03zTbsef.jpg', 'id': 508, 'title': 'Love Actually', 'original_language': 'en', 'original_title': 'Love Actually', 'overview': 'Eight London couples try to deal with their relationships in different ways. Their tryst with love makes them discover how complicated relationships can be.', 'poster_path': '/7QPeVsr9rcFU9Gl90yg0gTOTpVv.jpg', 'media_type': 'movie', 'genre_ids': [35, 10749, 18], 'popularity': 91.558, 'release_date': '2003-09-07', 'video': False, 'vote_average': 7.111, 'vote_count': 6151}, {'adult': False, 'backdrop_path': '/qtfMr08KQsWXnCHY0a96N8NpQ2l.jpg', 'id': 30984, 'name': 'Bleach', 'original_language': 'ja', 'original_name': 'BLEACH', 'overview': 'For as long as he can remember, Ichigo Kurosaki has been able to see ghosts. But when he meets Rukia, a Soul Reaper who battles evil spirits known as Hollows, he finds his life is changed forever. Now, with a newfound wealth of spiritual energy, Ichigo discovers his true calling: to protect the living and the dead from evil.', 'poster_path': '/2EewmxXe72ogD0EaWM8gqa0ccIw.jpg', 'media_type': 'tv', 'genre_ids': [10759, 16, 10765], 'popularity': 281.52, 'first_air_date': '2004-10-05', 'vote_average': 8.399, 'vote_count': 1645, 'origin_country': ['JP']}, {'adult': False, 'backdrop_path': '/uDgy6hyPd82kOHh6I95FLtLnj6p.jpg', 'id': 100088, 'name': 'The Last of Us', 'original_language': 'en', 'original_name': 'The Last of Us', 'overview': 'Twenty years after modern civilization has been destroyed, Joel, a hardened survivor, is hired to smuggle Ellie, a 14-year-old girl, out of an oppressive quarantine zone. What starts as a small job soon becomes a brutal, heartbreaking journey, as they both must traverse the United States and depend on each other for survival.', 'poster_path': '/uKvVjHNqB5VmOrdxqAt2F7J78ED.jpg', 'media_type': 'tv', 'genre_ids': [18], 'popularity': 211.364, 'first_air_date': '2023-01-15', 'vote_average': 8.637, 'vote_count': 4284, 'origin_country': ['US']}, {'adult': False, 'backdrop_path': '/vL5LR6WdxWPjLPFRLe133jXWsh5.jpg', 'id': 19995, 'title': 'Avatar', 'original_language': 'en', 'original_title': 'Avatar', 'overview': 'In the 22nd century, a paraplegic Marine is dispatched to the moon Pandora on a unique mission, but becomes torn between following orders and protecting an alien civilization.', 'poster_path': '/kyeqWdyUXW608qlYkRqosgbbJyK.jpg', 'media_type': 'movie', 'genre_ids': [28, 12, 14, 878], 'popularity': 175.746, 'release_date': '2009-12-15', 'video': False, 'vote_average': 7.576, 'vote_count': 30107}, {'adult': False, 'backdrop_path': '/wDXz9MtI5yNNC7R8LF02rk1BXJR.jpg', 'id': 155631, 'name': 'The Santa Clauses', 'original_language': 'en', 'original_name': 'The Santa Clauses', 'overview': 'After nearly three decades of being Santa Claus, Scott Calvin’s magic begins to falter. As he struggles to keep up with the demands of the job, he discovers a new clause that forces him to rethink his role as Santa and as a father.', 'poster_path': '/fWTQBoKfGdn6n2UaD7TQp9WxeHO.jpg', 'media_type': 'tv', 'genre_ids': [35, 10751], 'popularity': 69.84, 'first_air_date': '2022-11-16', 'vote_average': 7.3, 'vote_count': 127, 'origin_country': ['US']}, {'adult': False, 'backdrop_path': '/pA3vdhadJPxF5GA1uo8OPTiNQDT.jpg', 'id': 678512, 'title': 'Sound of Freedom', 'original_language': 'en', 'original_title': 'Sound of Freedom', 'overview': 'The story of Tim Ballard, a former US government agent, who quits his job in order to devote his life to rescuing children from global sex traffickers.', 'poster_path': '/qA5kPYZA7FkVvqcEfJRoOy4kpHg.jpg', 'media_type': 'movie', 'genre_ids': [28, 18], 'popularity': 263.457, 'release_date': '2023-07-03', 'video': False, 'vote_average': 8.1, 'vote_count': 1585}]\n"
     ]
    }
   ],
   "source": [
    "# Example usage\n",
    "api_key = '44f6c761b9c0466960bf14796a06db32'\n",
    "movies = fetch_all_pages(api_key, 'trending/all/week')\n",
    "print(movies)"
   ]
  },
  {
   "cell_type": "code",
   "execution_count": 11,
   "id": "19486d1a-811e-43d1-8380-fc3c5c092af5",
   "metadata": {},
   "outputs": [
    {
     "data": {
      "text/plain": [
       "100"
      ]
     },
     "execution_count": 11,
     "metadata": {},
     "output_type": "execute_result"
    }
   ],
   "source": [
    "len(movies)"
   ]
  },
  {
   "cell_type": "code",
   "execution_count": 12,
   "id": "86a06093-a915-483b-9b3b-ec87d64dc606",
   "metadata": {},
   "outputs": [
    {
     "data": {
      "text/plain": [
       "{'adult': False,\n",
       " 'backdrop_path': '/fm6KqXpk3M2HVveHwCrBSSBaO0V.jpg',\n",
       " 'id': 872585,\n",
       " 'title': 'Oppenheimer',\n",
       " 'original_language': 'en',\n",
       " 'original_title': 'Oppenheimer',\n",
       " 'overview': \"The story of J. Robert Oppenheimer's role in the development of the atomic bomb during World War II.\",\n",
       " 'poster_path': '/8Gxv8gSFCU0XGDykEGv7zR1n2ua.jpg',\n",
       " 'media_type': 'movie',\n",
       " 'genre_ids': [18, 36],\n",
       " 'popularity': 956.285,\n",
       " 'release_date': '2023-07-19',\n",
       " 'video': False,\n",
       " 'vote_average': 8.139,\n",
       " 'vote_count': 5345}"
      ]
     },
     "execution_count": 12,
     "metadata": {},
     "output_type": "execute_result"
    }
   ],
   "source": [
    "movies[1]"
   ]
  },
  {
   "cell_type": "code",
   "execution_count": 13,
   "id": "f18875cf-332c-46d3-b1c9-59edb1673ff5",
   "metadata": {},
   "outputs": [],
   "source": [
    "trending_df = pd.DataFrame(movies)"
   ]
  },
  {
   "cell_type": "code",
   "execution_count": 14,
   "id": "29ced0bd-f152-4bb3-88c3-a412343de98d",
   "metadata": {},
   "outputs": [],
   "source": [
    "trending_df[\"common_name\"] = trending_df.apply(lambda row: row[\"name\"] if pd.notnull(row[\"name\"]) else row[\"title\"], axis=1)"
   ]
  },
  {
   "cell_type": "code",
   "execution_count": 30,
   "id": "09fa8234-a8b3-4bb7-893c-181aef4a688a",
   "metadata": {},
   "outputs": [
    {
     "data": {
      "text/html": [
       "<div>\n",
       "<style scoped>\n",
       "    .dataframe tbody tr th:only-of-type {\n",
       "        vertical-align: middle;\n",
       "    }\n",
       "\n",
       "    .dataframe tbody tr th {\n",
       "        vertical-align: top;\n",
       "    }\n",
       "\n",
       "    .dataframe thead th {\n",
       "        text-align: right;\n",
       "    }\n",
       "</style>\n",
       "<table border=\"1\" class=\"dataframe\">\n",
       "  <thead>\n",
       "    <tr style=\"text-align: right;\">\n",
       "      <th></th>\n",
       "      <th>adult</th>\n",
       "      <th>backdrop_path</th>\n",
       "      <th>id</th>\n",
       "      <th>title</th>\n",
       "      <th>original_language</th>\n",
       "      <th>original_title</th>\n",
       "      <th>overview</th>\n",
       "      <th>poster_path</th>\n",
       "      <th>media_type</th>\n",
       "      <th>genre_ids</th>\n",
       "      <th>popularity</th>\n",
       "      <th>release_date</th>\n",
       "      <th>video</th>\n",
       "      <th>vote_average</th>\n",
       "      <th>vote_count</th>\n",
       "      <th>name</th>\n",
       "      <th>original_name</th>\n",
       "      <th>first_air_date</th>\n",
       "      <th>origin_country</th>\n",
       "      <th>common_name</th>\n",
       "    </tr>\n",
       "  </thead>\n",
       "  <tbody>\n",
       "    <tr>\n",
       "      <th>0</th>\n",
       "      <td>False</td>\n",
       "      <td>/1X7vow16X7CnCoexXh4H4F2yDJv.jpg</td>\n",
       "      <td>466420</td>\n",
       "      <td>Killers of the Flower Moon</td>\n",
       "      <td>en</td>\n",
       "      <td>Killers of the Flower Moon</td>\n",
       "      <td>When oil is discovered in 1920s Oklahoma under...</td>\n",
       "      <td>/dB6Krk806zeqd0YNp2ngQ9zXteH.jpg</td>\n",
       "      <td>movie</td>\n",
       "      <td>[80, 18, 36]</td>\n",
       "      <td>2277.914</td>\n",
       "      <td>2023-10-18</td>\n",
       "      <td>False</td>\n",
       "      <td>7.671</td>\n",
       "      <td>1314</td>\n",
       "      <td>NaN</td>\n",
       "      <td>NaN</td>\n",
       "      <td>NaN</td>\n",
       "      <td>NaN</td>\n",
       "      <td>Killers of the Flower Moon</td>\n",
       "    </tr>\n",
       "    <tr>\n",
       "      <th>1</th>\n",
       "      <td>False</td>\n",
       "      <td>/fm6KqXpk3M2HVveHwCrBSSBaO0V.jpg</td>\n",
       "      <td>872585</td>\n",
       "      <td>Oppenheimer</td>\n",
       "      <td>en</td>\n",
       "      <td>Oppenheimer</td>\n",
       "      <td>The story of J. Robert Oppenheimer's role in t...</td>\n",
       "      <td>/8Gxv8gSFCU0XGDykEGv7zR1n2ua.jpg</td>\n",
       "      <td>movie</td>\n",
       "      <td>[18, 36]</td>\n",
       "      <td>956.285</td>\n",
       "      <td>2023-07-19</td>\n",
       "      <td>False</td>\n",
       "      <td>8.139</td>\n",
       "      <td>5345</td>\n",
       "      <td>NaN</td>\n",
       "      <td>NaN</td>\n",
       "      <td>NaN</td>\n",
       "      <td>NaN</td>\n",
       "      <td>Oppenheimer</td>\n",
       "    </tr>\n",
       "    <tr>\n",
       "      <th>2</th>\n",
       "      <td>False</td>\n",
       "      <td>/vcFW09U4834DyFOeRZpsx9x1D3S.jpg</td>\n",
       "      <td>57243</td>\n",
       "      <td>NaN</td>\n",
       "      <td>en</td>\n",
       "      <td>NaN</td>\n",
       "      <td>The Doctor is a Time Lord: a 900 year old alie...</td>\n",
       "      <td>/4edFyasCrkH4MKs6H4mHqlrxA6b.jpg</td>\n",
       "      <td>tv</td>\n",
       "      <td>[10759, 18, 10765]</td>\n",
       "      <td>647.093</td>\n",
       "      <td>NaN</td>\n",
       "      <td>NaN</td>\n",
       "      <td>7.461</td>\n",
       "      <td>2721</td>\n",
       "      <td>Doctor Who</td>\n",
       "      <td>Doctor Who</td>\n",
       "      <td>2005-03-26</td>\n",
       "      <td>[GB]</td>\n",
       "      <td>Doctor Who</td>\n",
       "    </tr>\n",
       "    <tr>\n",
       "      <th>3</th>\n",
       "      <td>False</td>\n",
       "      <td>/1pmLsPXz5k37BILPH1wq1OV2E7U.jpg</td>\n",
       "      <td>239770</td>\n",
       "      <td>NaN</td>\n",
       "      <td>en</td>\n",
       "      <td>NaN</td>\n",
       "      <td>The Doctor and friends travel from the dawn of...</td>\n",
       "      <td>/2I8aMfUvgRKQvEpBIQVKMbXgMsi.jpg</td>\n",
       "      <td>tv</td>\n",
       "      <td>[10759, 18, 10765]</td>\n",
       "      <td>268.284</td>\n",
       "      <td>NaN</td>\n",
       "      <td>NaN</td>\n",
       "      <td>7.900</td>\n",
       "      <td>42</td>\n",
       "      <td>Doctor Who</td>\n",
       "      <td>Doctor Who</td>\n",
       "      <td></td>\n",
       "      <td>[GB]</td>\n",
       "      <td>Doctor Who</td>\n",
       "    </tr>\n",
       "    <tr>\n",
       "      <th>4</th>\n",
       "      <td>False</td>\n",
       "      <td>/yOm993lsJyPmBodlYjgpPwBjXP9.jpg</td>\n",
       "      <td>787699</td>\n",
       "      <td>Wonka</td>\n",
       "      <td>en</td>\n",
       "      <td>Wonka</td>\n",
       "      <td>Willy Wonka – chock-full of ideas and determin...</td>\n",
       "      <td>/qhb1qOilapbapxWQn9jtRCMwXJF.jpg</td>\n",
       "      <td>movie</td>\n",
       "      <td>[35, 10751, 14]</td>\n",
       "      <td>1174.577</td>\n",
       "      <td>2023-12-06</td>\n",
       "      <td>False</td>\n",
       "      <td>7.052</td>\n",
       "      <td>96</td>\n",
       "      <td>NaN</td>\n",
       "      <td>NaN</td>\n",
       "      <td>NaN</td>\n",
       "      <td>NaN</td>\n",
       "      <td>Wonka</td>\n",
       "    </tr>\n",
       "  </tbody>\n",
       "</table>\n",
       "</div>"
      ],
      "text/plain": [
       "   adult                     backdrop_path      id  \\\n",
       "0  False  /1X7vow16X7CnCoexXh4H4F2yDJv.jpg  466420   \n",
       "1  False  /fm6KqXpk3M2HVveHwCrBSSBaO0V.jpg  872585   \n",
       "2  False  /vcFW09U4834DyFOeRZpsx9x1D3S.jpg   57243   \n",
       "3  False  /1pmLsPXz5k37BILPH1wq1OV2E7U.jpg  239770   \n",
       "4  False  /yOm993lsJyPmBodlYjgpPwBjXP9.jpg  787699   \n",
       "\n",
       "                        title original_language              original_title  \\\n",
       "0  Killers of the Flower Moon                en  Killers of the Flower Moon   \n",
       "1                 Oppenheimer                en                 Oppenheimer   \n",
       "2                         NaN                en                         NaN   \n",
       "3                         NaN                en                         NaN   \n",
       "4                       Wonka                en                       Wonka   \n",
       "\n",
       "                                            overview  \\\n",
       "0  When oil is discovered in 1920s Oklahoma under...   \n",
       "1  The story of J. Robert Oppenheimer's role in t...   \n",
       "2  The Doctor is a Time Lord: a 900 year old alie...   \n",
       "3  The Doctor and friends travel from the dawn of...   \n",
       "4  Willy Wonka – chock-full of ideas and determin...   \n",
       "\n",
       "                        poster_path media_type           genre_ids  \\\n",
       "0  /dB6Krk806zeqd0YNp2ngQ9zXteH.jpg      movie        [80, 18, 36]   \n",
       "1  /8Gxv8gSFCU0XGDykEGv7zR1n2ua.jpg      movie            [18, 36]   \n",
       "2  /4edFyasCrkH4MKs6H4mHqlrxA6b.jpg         tv  [10759, 18, 10765]   \n",
       "3  /2I8aMfUvgRKQvEpBIQVKMbXgMsi.jpg         tv  [10759, 18, 10765]   \n",
       "4  /qhb1qOilapbapxWQn9jtRCMwXJF.jpg      movie     [35, 10751, 14]   \n",
       "\n",
       "   popularity release_date  video  vote_average  vote_count        name  \\\n",
       "0    2277.914   2023-10-18  False         7.671        1314         NaN   \n",
       "1     956.285   2023-07-19  False         8.139        5345         NaN   \n",
       "2     647.093          NaN    NaN         7.461        2721  Doctor Who   \n",
       "3     268.284          NaN    NaN         7.900          42  Doctor Who   \n",
       "4    1174.577   2023-12-06  False         7.052          96         NaN   \n",
       "\n",
       "  original_name first_air_date origin_country                 common_name  \n",
       "0           NaN            NaN            NaN  Killers of the Flower Moon  \n",
       "1           NaN            NaN            NaN                 Oppenheimer  \n",
       "2    Doctor Who     2005-03-26           [GB]                  Doctor Who  \n",
       "3    Doctor Who                          [GB]                  Doctor Who  \n",
       "4           NaN            NaN            NaN                       Wonka  "
      ]
     },
     "execution_count": 30,
     "metadata": {},
     "output_type": "execute_result"
    }
   ],
   "source": [
    "trending_df.head()"
   ]
  },
  {
   "cell_type": "code",
   "execution_count": 31,
   "metadata": {},
   "outputs": [
    {
     "name": "stdout",
     "output_type": "stream",
     "text": [
      "['movie' 'tv']\n"
     ]
    }
   ],
   "source": [
    "print(trending_df['media_type'].unique())"
   ]
  },
  {
   "cell_type": "code",
   "execution_count": 32,
   "id": "fb038b2d-aae4-4fdd-baf3-21a270218f18",
   "metadata": {},
   "outputs": [
    {
     "name": "stdout",
     "output_type": "stream",
     "text": [
      "466420 movie\n",
      "872585 movie\n",
      "57243 tv\n",
      "239770 tv\n",
      "787699 movie\n",
      "609681 movie\n",
      "670292 movie\n",
      "1429 tv\n",
      "695721 movie\n",
      "202411 tv\n",
      "507089 movie\n",
      "335977 movie\n",
      "96648 tv\n",
      "37854 tv\n",
      "901362 movie\n",
      "753342 movie\n",
      "346698 movie\n",
      "575264 movie\n",
      "84958 tv\n",
      "897087 movie\n",
      "1075794 movie\n",
      "1022796 movie\n",
      "840430 movie\n",
      "95479 tv\n",
      "726209 movie\n",
      "800158 movie\n",
      "204082 tv\n",
      "926393 movie\n",
      "572802 movie\n",
      "569094 movie\n",
      "94244 tv\n",
      "945729 movie\n",
      "798021 movie\n",
      "60625 tv\n",
      "60622 tv\n",
      "230131 tv\n",
      "951491 movie\n",
      "1399 tv\n",
      "299054 movie\n",
      "134095 tv\n",
      "1046032 movie\n",
      "603692 movie\n",
      "447365 movie\n",
      "502356 movie\n",
      "218539 tv\n",
      "95480 tv\n",
      "980489 movie\n",
      "385687 movie\n",
      "565770 movie\n",
      "76600 movie\n",
      "204999 tv\n",
      "120089 tv\n",
      "945937 movie\n",
      "121 tv\n",
      "85937 tv\n",
      "597 movie\n",
      "671 movie\n",
      "95557 tv\n",
      "870358 movie\n",
      "771 movie\n",
      "807172 movie\n",
      "1071215 movie\n",
      "667538 movie\n",
      "823464 movie\n",
      "87917 tv\n",
      "893723 movie\n",
      "1047041 movie\n",
      "8871 movie\n",
      "968051 movie\n",
      "615656 movie\n",
      "1668 tv\n",
      "157336 movie\n",
      "1396 tv\n",
      "976573 movie\n",
      "120 movie\n",
      "634649 movie\n",
      "792307 movie\n",
      "438631 movie\n",
      "94997 tv\n",
      "1008042 movie\n",
      "11 movie\n",
      "157732 tv\n",
      "76479 tv\n",
      "216985 tv\n",
      "65494 tv\n",
      "614930 movie\n",
      "209867 tv\n",
      "155292 tv\n",
      "155 movie\n",
      "299534 movie\n",
      "205715 tv\n",
      "225180 tv\n",
      "298618 movie\n",
      "1016084 movie\n",
      "508 movie\n",
      "30984 tv\n",
      "100088 tv\n",
      "19995 movie\n",
      "155631 tv\n",
      "678512 movie\n"
     ]
    }
   ],
   "source": [
    "# Example usage\n",
    "providers = []\n",
    "for roww in trending_df.iterrows():\n",
    "    row = roww[1]\n",
    "    id = row[\"id\"]\n",
    "    type = row[\"media_type\"]\n",
    "    print(id, type)\n",
    "    try:\n",
    "        movie_providers = fetch_all_pages(api_key, f'{type}/{id}/watch/providers')\n",
    "        if \"PL\" in movie_providers:\n",
    "            movie_providers[\"PL\"][\"id\"] = id\n",
    "            providers.append(movie_providers[\"PL\"])\n",
    "    except:\n",
    "        pass"
   ]
  },
  {
   "cell_type": "code",
   "execution_count": 39,
   "id": "97460060-15a3-41d0-89d0-6e06e6a42b98",
   "metadata": {
    "scrolled": true
   },
   "outputs": [
    {
     "data": {
      "text/plain": [
       "77"
      ]
     },
     "execution_count": 39,
     "metadata": {},
     "output_type": "execute_result"
    }
   ],
   "source": [
    "len(providers)"
   ]
  },
  {
   "cell_type": "code",
   "execution_count": 42,
   "metadata": {},
   "outputs": [
    {
     "data": {
      "text/plain": [
       "dict_keys(['link', 'rent', 'flatrate', 'buy', 'id'])"
      ]
     },
     "execution_count": 42,
     "metadata": {},
     "output_type": "execute_result"
    }
   ],
   "source": [
    "providers[0].keys()"
   ]
  },
  {
   "cell_type": "code",
   "execution_count": 34,
   "id": "ee4141e8-9549-408b-817e-546557c819c6",
   "metadata": {},
   "outputs": [
    {
     "name": "stdout",
     "output_type": "stream",
     "text": [
      "Wonka\n",
      "Attack on Titan\n",
      "Monarch: Legacy of Monsters\n",
      "Sweet Home\n",
      "One Piece\n",
      "Loki\n",
      "Leo\n",
      "Jujutsu Kaisen\n",
      "Leave the World Behind\n",
      "Squid Game: The Challenge\n",
      "Aquaman and the Lost Kingdom\n",
      "Obliterated\n",
      "Family Switch\n",
      "Rick and Morty\n",
      "Fargo\n",
      "South Sea Tomb\n",
      "Game of Thrones\n",
      "A Murder at the End of the World\n",
      "The Bad Guys: A Very Bad Holiday\n",
      "My Demon\n",
      "Slow Horses\n",
      "Faraway Downs\n",
      "SPY x FAMILY\n",
      "Fast Charlie\n",
      "Demon Slayer: Kimetsu no Yaiba\n",
      "Titanic\n",
      "Harry Potter and the Philosopher's Stone\n",
      "Merry Little Batman\n",
      "Home Alone\n",
      "Godzilla x Kong: The New Empire\n",
      "For All Mankind\n",
      "Detective Conan: Black Iron Submarine\n",
      "Friends\n",
      "Breaking Bad\n",
      "House of the Dragon\n",
      "Star Wars\n",
      "Lawmen: Bass Reeves\n",
      "Blood Coast\n",
      "The Crown\n",
      "Frieren: Beyond Journey's End\n",
      "Scott Pilgrim Takes Off\n",
      "Gen V\n",
      "BLUE EYE SAMURAI\n",
      "Bleach\n",
      "The Last of Us\n",
      "The Santa Clauses\n"
     ]
    }
   ],
   "source": [
    "for _, row in trending_df.iterrows():\n",
    "    title = row[\"common_name\"]\n",
    "\n",
    "    if title not in np.unique(revenue_df[\"title\"]):\n",
    "        print(title)"
   ]
  }
 ],
 "metadata": {
  "kernelspec": {
   "display_name": "Python 3 (ipykernel)",
   "language": "python",
   "name": "python3"
  },
  "language_info": {
   "codemirror_mode": {
    "name": "ipython",
    "version": 3
   },
   "file_extension": ".py",
   "mimetype": "text/x-python",
   "name": "python",
   "nbconvert_exporter": "python",
   "pygments_lexer": "ipython3",
   "version": "3.11.5"
  }
 },
 "nbformat": 4,
 "nbformat_minor": 5
}
